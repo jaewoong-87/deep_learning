{
  "nbformat": 4,
  "nbformat_minor": 0,
  "metadata": {
    "colab": {
      "name": "Backpropagation.ipynb",
      "provenance": [],
      "collapsed_sections": [],
      "authorship_tag": "ABX9TyMygs5c3tuVcWxaAP3Zf93G",
      "include_colab_link": true
    },
    "kernelspec": {
      "name": "python3",
      "display_name": "Python 3"
    }
  },
  "cells": [
    {
      "cell_type": "markdown",
      "metadata": {
        "id": "view-in-github",
        "colab_type": "text"
      },
      "source": [
        "<a href=\"https://colab.research.google.com/github/jaewoong-87/deep_learning/blob/main/Backpropagation.ipynb\" target=\"_parent\"><img src=\"https://colab.research.google.com/assets/colab-badge.svg\" alt=\"Open In Colab\"/></a>"
      ]
    },
    {
      "cell_type": "markdown",
      "metadata": {
        "id": "imEucpw5fAy6"
      },
      "source": [
        "chain rule"
      ]
    },
    {
      "cell_type": "code",
      "metadata": {
        "id": "vKl6L-pzdqAa"
      },
      "source": [
        "class Mul():\r\n",
        "  def __init__(self):\r\n",
        "    self.x=None\r\n",
        "    self.y=None\r\n",
        "\r\n",
        "  def forward(self, x,y):\r\n",
        "    self.x=x\r\n",
        "    self.y=y\r\n",
        "    result = x*y\r\n",
        "    return result\r\n",
        "\r\n",
        "  def backward(self, dresult):\r\n",
        "    dx = dresult * self.y\r\n",
        "    dy = dresult * self.x\r\n",
        "    return dx, dy"
      ],
      "execution_count": 1,
      "outputs": []
    },
    {
      "cell_type": "code",
      "metadata": {
        "id": "w5xvnfu8dAAl"
      },
      "source": [
        "class Add():\r\n",
        "  def __init__(self):\r\n",
        "    self.x=None\r\n",
        "    self.y=None\r\n",
        "\r\n",
        "  def forward(self, x, y):\r\n",
        "    self.x = x\r\n",
        "    self.y = y\r\n",
        "    result = x+y\r\n",
        "    return result\r\n",
        "\r\n",
        "  def backward(self, dresult):\r\n",
        "    dx = dresult * 1\r\n",
        "    dy = dresult * 1\r\n",
        "    return dx, dy"
      ],
      "execution_count": 3,
      "outputs": []
    },
    {
      "cell_type": "code",
      "metadata": {
        "id": "yq0sfx95dADY"
      },
      "source": [
        "a, b, c = -1, 3, 4\r\n",
        "x= Add()\r\n",
        "y = Add()\r\n",
        "f = Mul()"
      ],
      "execution_count": 4,
      "outputs": []
    },
    {
      "cell_type": "code",
      "metadata": {
        "colab": {
          "base_uri": "https://localhost:8080/"
        },
        "id": "QYyTXZD2dAGG",
        "outputId": "e159911f-b5e1-4618-89f0-e10c06e801bc"
      },
      "source": [
        "x_result =x.forward(a,b)\r\n",
        "y_result =y.forward(b,c)\r\n",
        "\r\n",
        "print(x_result)\r\n",
        "print(y_result)\r\n",
        "print(f.forward(x_result,y_result))"
      ],
      "execution_count": 5,
      "outputs": [
        {
          "output_type": "stream",
          "text": [
            "2\n",
            "7\n",
            "14\n"
          ],
          "name": "stdout"
        }
      ]
    },
    {
      "cell_type": "code",
      "metadata": {
        "colab": {
          "base_uri": "https://localhost:8080/"
        },
        "id": "pK6cbmwhdAIw",
        "outputId": "e67b5d70-c048-4060-d112-6d4cc5b344ce"
      },
      "source": [
        "dresult = 1\r\n",
        "dx_mul, dy_mul = f.backward(dresult)\r\n",
        "\r\n",
        "da_add, db_add_1 = x.backward(dx_mul)\r\n",
        "db_add_2, dc_add = y.backward(dy_mul)\r\n",
        "\r\n",
        "print(dx_mul, dy_mul)\r\n",
        "print(da_add)\r\n",
        "print(db_add_1 + db_add_2)\r\n",
        "print(dc_add)"
      ],
      "execution_count": 7,
      "outputs": [
        {
          "output_type": "stream",
          "text": [
            "7 2\n",
            "7\n",
            "9\n",
            "2\n"
          ],
          "name": "stdout"
        }
      ]
    },
    {
      "cell_type": "markdown",
      "metadata": {
        "id": "ctccVfwdeYbQ"
      },
      "source": [
        "backpropagation in sigmoid f"
      ]
    },
    {
      "cell_type": "code",
      "metadata": {
        "id": "u90luJOKdAL-"
      },
      "source": [
        "class Sigmoid:\r\n",
        "  def __init__(self):\r\n",
        "    self.out = None\r\n",
        "\r\n",
        "  def forward(self, x):\r\n",
        "    out = 1/(1+np.exp(-x))\r\n",
        "    return out\r\n",
        "  \r\n",
        "  def backward(self, dout):\r\n",
        "    dx = dout * (1.0 - self.out) * self.dout\r\n",
        "    return"
      ],
      "execution_count": 8,
      "outputs": []
    },
    {
      "cell_type": "markdown",
      "metadata": {
        "id": "0aZ_wdvze0Di"
      },
      "source": [
        "B.G in ReLU"
      ]
    },
    {
      "cell_type": "code",
      "metadata": {
        "id": "SUnVaQPedAOy"
      },
      "source": [
        "class ReLU():\r\n",
        "\r\n",
        "  def __init__(self):\r\n",
        "    self.out =None\r\n",
        "  \r\n",
        "  def forward(self, x):\r\n",
        "    self.mask = (x<0)\r\n",
        "    out = x.copy()\r\n",
        "    out[x<0] = 0\r\n",
        "    return out\r\n",
        "\r\n",
        "  def backward(self, dout):\r\n",
        "    dout[self.mask] =0\r\n",
        "    dx = dout\r\n",
        "    return dx_mul"
      ],
      "execution_count": 9,
      "outputs": []
    },
    {
      "cell_type": "markdown",
      "metadata": {
        "id": "cyWOZIiYfVFc"
      },
      "source": [
        "forward"
      ]
    },
    {
      "cell_type": "code",
      "metadata": {
        "colab": {
          "base_uri": "https://localhost:8080/"
        },
        "id": "PrlzWKWXdATc",
        "outputId": "0410c144-ef8c-4f2c-9f33-eea9ef274e63"
      },
      "source": [
        "import numpy as np\r\n",
        "\r\n",
        "X = np.random.rand(3)\r\n",
        "W = np.random.rand(3,2)\r\n",
        "B = np.random.rand(2)\r\n",
        "\r\n",
        "print(X.shape)\r\n",
        "print(W.shape)\r\n",
        "print(B.shape)\r\n"
      ],
      "execution_count": 11,
      "outputs": [
        {
          "output_type": "stream",
          "text": [
            "(3,)\n",
            "(3, 2)\n",
            "(2,)\n"
          ],
          "name": "stdout"
        }
      ]
    },
    {
      "cell_type": "code",
      "metadata": {
        "colab": {
          "base_uri": "https://localhost:8080/"
        },
        "id": "u__IJBkCfYFF",
        "outputId": "903a1fff-6f17-4569-e508-599ed9ca5f85"
      },
      "source": [
        "Y = np.dot(X,W) + B\r\n",
        "print(Y.shape)"
      ],
      "execution_count": 12,
      "outputs": [
        {
          "output_type": "stream",
          "text": [
            "(2,)\n"
          ],
          "name": "stdout"
        }
      ]
    },
    {
      "cell_type": "code",
      "metadata": {
        "colab": {
          "base_uri": "https://localhost:8080/"
        },
        "id": "1GpRW1ZHfYJU",
        "outputId": "31610ef9-55fd-4942-feed-69ac3eeea066"
      },
      "source": [
        "X = np.random.rand(3)\r\n",
        "W = np.random.rand(2,2)\r\n",
        "B = np.random.rand(2)\r\n",
        "\r\n",
        "print(X.shape)\r\n",
        "print(W.shape)\r\n",
        "print(B.shape)"
      ],
      "execution_count": 13,
      "outputs": [
        {
          "output_type": "stream",
          "text": [
            "(3,)\n",
            "(2, 2)\n",
            "(2,)\n"
          ],
          "name": "stdout"
        }
      ]
    },
    {
      "cell_type": "code",
      "metadata": {
        "colab": {
          "base_uri": "https://localhost:8080/",
          "height": 232
        },
        "id": "Dw10ohBsdAY8",
        "outputId": "34462e4a-7c75-4725-90b0-fe4d8b0b3c5b"
      },
      "source": [
        "Y = np.dot(X,W) + B\r\n",
        "print(Y.shape)"
      ],
      "execution_count": 14,
      "outputs": [
        {
          "output_type": "error",
          "ename": "ValueError",
          "evalue": "ignored",
          "traceback": [
            "\u001b[0;31m---------------------------------------------------------------------------\u001b[0m",
            "\u001b[0;31mValueError\u001b[0m                                Traceback (most recent call last)",
            "\u001b[0;32m<ipython-input-14-23bc31c4e306>\u001b[0m in \u001b[0;36m<module>\u001b[0;34m()\u001b[0m\n\u001b[0;32m----> 1\u001b[0;31m \u001b[0mY\u001b[0m \u001b[0;34m=\u001b[0m \u001b[0mnp\u001b[0m\u001b[0;34m.\u001b[0m\u001b[0mdot\u001b[0m\u001b[0;34m(\u001b[0m\u001b[0mX\u001b[0m\u001b[0;34m,\u001b[0m\u001b[0mW\u001b[0m\u001b[0;34m)\u001b[0m \u001b[0;34m+\u001b[0m \u001b[0mB\u001b[0m\u001b[0;34m\u001b[0m\u001b[0;34m\u001b[0m\u001b[0m\n\u001b[0m\u001b[1;32m      2\u001b[0m \u001b[0mprint\u001b[0m\u001b[0;34m(\u001b[0m\u001b[0mY\u001b[0m\u001b[0;34m.\u001b[0m\u001b[0mshape\u001b[0m\u001b[0;34m)\u001b[0m\u001b[0;34m\u001b[0m\u001b[0;34m\u001b[0m\u001b[0m\n",
            "\u001b[0;32m<__array_function__ internals>\u001b[0m in \u001b[0;36mdot\u001b[0;34m(*args, **kwargs)\u001b[0m\n",
            "\u001b[0;31mValueError\u001b[0m: shapes (3,) and (2,2) not aligned: 3 (dim 0) != 2 (dim 0)"
          ]
        }
      ]
    },
    {
      "cell_type": "markdown",
      "metadata": {
        "id": "htLP2AbKgC7P"
      },
      "source": [
        "shape should be matched."
      ]
    },
    {
      "cell_type": "code",
      "metadata": {
        "colab": {
          "base_uri": "https://localhost:8080/"
        },
        "id": "QovsnkoggJRm",
        "outputId": "e1bac18a-5c49-4f1f-c626-c3840310d73c"
      },
      "source": [
        "X = np.random.randn(2)\r\n",
        "W = np.random.randn(2,3)\r\n",
        "Y = np.dot(X,W)\r\n",
        "\r\n",
        "print(\"X\\n{}\".format(X))\r\n",
        "print(\"W\\n{}\".format(W))\r\n",
        "print(\"Y\\n{}\".format(Y))"
      ],
      "execution_count": 18,
      "outputs": [
        {
          "output_type": "stream",
          "text": [
            "X\n",
            "[0.40808478 1.01901049]\n",
            "W\n",
            "[[ 0.07682922  0.93430204  0.7910283 ]\n",
            " [-0.32949638  0.86242414  0.08597736]]\n",
            "Y\n",
            "[-0.30440743  1.26009368  0.41041844]\n"
          ],
          "name": "stdout"
        }
      ]
    },
    {
      "cell_type": "markdown",
      "metadata": {
        "id": "NfK8yNfPhfEr"
      },
      "source": [
        "B.G"
      ]
    },
    {
      "cell_type": "code",
      "metadata": {
        "colab": {
          "base_uri": "https://localhost:8080/"
        },
        "id": "_o2L5JmxgUoj",
        "outputId": "87f3e542-5da2-4ad1-b5d8-e30fb4d89cd1"
      },
      "source": [
        "dL_dY = np.random.randn(3)\r\n",
        "dL_dX = np.dot(dL_dY, W.T)\r\n",
        "dL_dW = np.dot(X.reshape(-1,1), dL_dY.reshape(1,-1))\r\n",
        "\r\n",
        "print(\"dL_dY\\n{}\".format(dL_dY))\r\n",
        "print(\"dL_dX\\n{}\".format(dL_dX))\r\n",
        "print(\"dL_dW\\n{}\".format(dL_dW))"
      ],
      "execution_count": 20,
      "outputs": [
        {
          "output_type": "stream",
          "text": [
            "dL_dY\n",
            "[ 2.18101747 -0.5595502   0.13872834]\n",
            "dL_dX\n",
            "[-0.24548497 -1.18927946]\n",
            "dL_dW\n",
            "[[ 0.89004003 -0.22834392  0.05661292]\n",
            " [ 2.22247967 -0.57018752  0.14136564]]\n"
          ],
          "name": "stdout"
        }
      ]
    },
    {
      "cell_type": "markdown",
      "metadata": {
        "id": "e5PAnnOBhgqd"
      },
      "source": [
        "B.G2"
      ]
    },
    {
      "cell_type": "code",
      "metadata": {
        "colab": {
          "base_uri": "https://localhost:8080/"
        },
        "id": "Ss-LnOF5gUrL",
        "outputId": "7b307cca-1da8-4df0-9ae7-28868a1bdb7f"
      },
      "source": [
        "X = np.random.randn(2)\r\n",
        "W = np.random.randn(2,3)\r\n",
        "B = np.random.randn(3)\r\n",
        "Y = np.dot(X,W) + B\r\n",
        "\r\n",
        "print(Y)"
      ],
      "execution_count": 21,
      "outputs": [
        {
          "output_type": "stream",
          "text": [
            "[-5.15794952  1.32740988  1.161217  ]\n"
          ],
          "name": "stdout"
        }
      ]
    },
    {
      "cell_type": "code",
      "metadata": {
        "colab": {
          "base_uri": "https://localhost:8080/"
        },
        "id": "VegeyzxdgUt2",
        "outputId": "9ed43188-bab8-4335-8ee1-92156e5f78d1"
      },
      "source": [
        "dL_dY = np.random.randn(3)\r\n",
        "dL_dX = np.dot(dL_dY, W.T)\r\n",
        "dL_dW = np.dot(X.reshape(-1,1), dL_dY.reshape(1,-1))\r\n",
        "dL_dB = dL_dY\r\n",
        "\r\n",
        "print(\"dL_dY\\n{}\".format(dL_dY))\r\n",
        "print(\"dL_dX\\n{}\".format(dL_dX))\r\n",
        "print(\"dL_dW\\n{}\".format(dL_dW))\r\n",
        "print(\"dL_dB\\n{}\".format(dL_dB))"
      ],
      "execution_count": 22,
      "outputs": [
        {
          "output_type": "stream",
          "text": [
            "dL_dY\n",
            "[-0.61019158 -3.16255834  0.38681559]\n",
            "dL_dX\n",
            "[-4.9413117  -1.45815254]\n",
            "dL_dW\n",
            "[[-0.31382316 -1.62651223  0.1989403 ]\n",
            " [ 0.86573714  4.48702393 -0.54881227]]\n",
            "dL_dB\n",
            "[-0.61019158 -3.16255834  0.38681559]\n"
          ],
          "name": "stdout"
        }
      ]
    },
    {
      "cell_type": "code",
      "metadata": {
        "id": "mdU_oIILgUwo"
      },
      "source": [
        "class Layer():\r\n",
        "\r\n",
        "  def __init__(self):\r\n",
        "    self.W=np.random.randn(3,2)\r\n",
        "    self.b = np.random.randn(2)\r\n",
        "    self.x = None\r\n",
        "    self.dW = None\r\n",
        "    self.db = None\r\n",
        "  \r\n",
        "  def forward(self, x):\r\n",
        "    self.x = x\r\n",
        "    out = np.dot(x, self.W) + self.b\r\n",
        "    return out\r\n",
        "\r\n",
        "  def backward(self, dout):\r\n",
        "    dx = np.dot(dout, self.W.T)\r\n",
        "    self.dW = np.dot(self.x.T, dout)\r\n",
        "    self.db = np.sum(dout, axis=0)\r\n",
        "    return dx"
      ],
      "execution_count": 23,
      "outputs": []
    },
    {
      "cell_type": "code",
      "metadata": {
        "id": "gJNwtBadgUzf"
      },
      "source": [
        "np.random.seed(111)\r\n",
        "\r\n",
        "layer = Layer()"
      ],
      "execution_count": 24,
      "outputs": []
    },
    {
      "cell_type": "code",
      "metadata": {
        "colab": {
          "base_uri": "https://localhost:8080/"
        },
        "id": "KIgwp5iii6Dq",
        "outputId": "3c9c6505-b692-4dd9-a8ab-49240e20520b"
      },
      "source": [
        "X = np.random.rand(2,3)\r\n",
        "Y = layer.forward(X)\r\n",
        "\r\n",
        "print(X)"
      ],
      "execution_count": 25,
      "outputs": [
        {
          "output_type": "stream",
          "text": [
            "[[0.23868214 0.33765619 0.99071246]\n",
            " [0.23772645 0.08119266 0.66960024]]\n"
          ],
          "name": "stdout"
        }
      ]
    },
    {
      "cell_type": "code",
      "metadata": {
        "colab": {
          "base_uri": "https://localhost:8080/"
        },
        "id": "gDbBbBtgi6G-",
        "outputId": "7c13c323-b7ec-45a6-ffdd-d26005a73ad2"
      },
      "source": [
        "dout = np.random.rand(2,2)\r\n",
        "dout_dx = layer.backward(dout)\r\n",
        "\r\n",
        "print(dout_dx)"
      ],
      "execution_count": 26,
      "outputs": [
        {
          "output_type": "stream",
          "text": [
            "[[-0.59898814  0.83225859 -0.61525238]\n",
            " [-0.48312871  0.65565961 -0.42154775]]\n"
          ],
          "name": "stdout"
        }
      ]
    },
    {
      "cell_type": "markdown",
      "metadata": {
        "id": "3Vg41UZVjSVm"
      },
      "source": [
        "MNIST with B.G"
      ]
    },
    {
      "cell_type": "code",
      "metadata": {
        "id": "nUYMl_U_jFiG"
      },
      "source": [
        "import tensorflow as tf\r\n",
        "import matplotlib.pyplot as plt\r\n",
        "plt.style.use('seaborn-white')\r\n",
        "from collections import OrderedDict"
      ],
      "execution_count": 27,
      "outputs": []
    },
    {
      "cell_type": "code",
      "metadata": {
        "colab": {
          "base_uri": "https://localhost:8080/"
        },
        "id": "qtm3-FnSjFma",
        "outputId": "a9b7453f-6386-4d7f-d4ed-b9bdd1ecd5f5"
      },
      "source": [
        "np.random.seed(42)\r\n",
        "\r\n",
        "mnist = tf.keras.datasets.mnist\r\n",
        "\r\n",
        "(X_train, y_train), (X_test, y_test) = mnist.load_data()\r\n",
        "\r\n",
        "num_classes = 10"
      ],
      "execution_count": 29,
      "outputs": [
        {
          "output_type": "stream",
          "text": [
            "Downloading data from https://storage.googleapis.com/tensorflow/tf-keras-datasets/mnist.npz\n",
            "11493376/11490434 [==============================] - 0s 0us/step\n"
          ],
          "name": "stdout"
        }
      ]
    },
    {
      "cell_type": "code",
      "metadata": {
        "id": "inpfCkBYjFqO"
      },
      "source": [
        "X_train, X_test = X_train.reshape(-1,28*28).astype(np.float32), X_test.reshape(-1,28 *28).astype(np.float32)\r\n",
        "\r\n",
        "X_train /= 255.0\r\n",
        "X_test /=255.0\r\n",
        "\r\n",
        "y_train = np.eye(num_classes)[y_train]"
      ],
      "execution_count": 30,
      "outputs": []
    },
    {
      "cell_type": "code",
      "metadata": {
        "colab": {
          "base_uri": "https://localhost:8080/"
        },
        "id": "giBthP8UkNKN",
        "outputId": "bf69d3c1-88b4-4812-ecea-e194b334aab6"
      },
      "source": [
        "print(X_train.shape)\r\n",
        "print(y_train.shape)\r\n",
        "print(X_test.shape)\r\n",
        "print(y_test.shape)"
      ],
      "execution_count": 31,
      "outputs": [
        {
          "output_type": "stream",
          "text": [
            "(60000, 784)\n",
            "(60000, 10)\n",
            "(10000, 784)\n",
            "(10000,)\n"
          ],
          "name": "stdout"
        }
      ]
    },
    {
      "cell_type": "code",
      "metadata": {
        "id": "yA5qd2omkUpA"
      },
      "source": [
        "epochs = 1000\r\n",
        "learning_rate =1e-3\r\n",
        "batch_size = 100\r\n",
        "train_size = X_train.shape[0]"
      ],
      "execution_count": 32,
      "outputs": []
    },
    {
      "cell_type": "code",
      "metadata": {
        "id": "aq6HHFmBkUy4"
      },
      "source": [
        "def softmax(x):\r\n",
        "  if x.ndim == 2:\r\n",
        "    x = x.T\r\n",
        "    x= x- np.max(x, axis=0)\r\n",
        "    y=np.exp(x) / np.sum(np.exp(x), axis=0)\r\n",
        "    return y.T\r\n",
        "\r\n",
        "  x = x - np.max(x)\r\n",
        "  return np.exp(x) / np.sum(np.exp(x))\r\n",
        "\r\n",
        "  def mean_squared_error(pred_y, true_y):\r\n",
        "    return 0.5 * np.sum((pred_y - true_y)**2)\r\n",
        "\r\n",
        "  def croos_entropy_error(pred_y, true_y):\r\n",
        "    if pred_y.ndim ==1:\r\n",
        "      true_y = true_y.reshape(1, true_y.size)\r\n",
        "      pred_y = pred_y.reshape(1, pred_y.size)\r\n",
        "\r\n",
        "    if true_y.size == pred_y.size:\r\n",
        "      true_y = true_y.argmax(axis=1)\r\n",
        "\r\n",
        "    batch_size = pred_y.shape[0]\r\n",
        "    return -np.sum(np.log(pred_y[np.arange(batch_size), true_y] + 1e-7)) / batch_size\r\n",
        "  \r\n",
        "  def softmax_loss(X, true_y):\r\n",
        "    pred_y = softmax(X)\r\n",
        "    return cross_entropy_error(pred_y, true_y)\r\n"
      ],
      "execution_count": 33,
      "outputs": []
    },
    {
      "cell_type": "markdown",
      "metadata": {
        "id": "KfWH-yB7l0t9"
      },
      "source": [
        "ReLU"
      ]
    },
    {
      "cell_type": "code",
      "metadata": {
        "id": "qj-VF7bQkU48"
      },
      "source": [
        "class ReLU():\r\n",
        "  def __init__(self):\r\n",
        "    self.out = None\r\n",
        "  \r\n",
        "  def forward(self, x):\r\n",
        "    self.mask = (x < 0)\r\n",
        "    out = x.copy()\r\n",
        "    out[x<0] =0\r\n",
        "    return out\r\n",
        "\r\n",
        "  def backward(self, dout):\r\n",
        "    dout[self.mask] = 0\r\n",
        "    dx = ddout\r\n",
        "    return dx"
      ],
      "execution_count": 34,
      "outputs": []
    },
    {
      "cell_type": "code",
      "metadata": {
        "id": "BQ91ZqhDkU8F"
      },
      "source": [
        "class Sigmoid():\r\n",
        "  def __init__(self):\r\n",
        "    self.out = None\r\n",
        "\r\n",
        "  def forward(self, x):\r\n",
        "    out = 1/(1+np.exp(-x))\r\n",
        "    return out\r\n",
        "\r\n",
        "  def backward(self, dout):\r\n",
        "    dx = dout * (1.0 - self.out)* self.dout\r\n",
        "    return dx\r\n"
      ],
      "execution_count": 35,
      "outputs": []
    },
    {
      "cell_type": "markdown",
      "metadata": {
        "id": "JuJfsq_LmfPv"
      },
      "source": [
        "Layer"
      ]
    },
    {
      "cell_type": "code",
      "metadata": {
        "id": "0yTbRZsokU-s"
      },
      "source": [
        "class Layer():\r\n",
        "\r\n",
        "  def __init__(self, W, b):\r\n",
        "    self.W = W\r\n",
        "    self.b = b\r\n",
        "\r\n",
        "    self.x = None\r\n",
        "    self.origin_x_shape = None\r\n",
        "\r\n",
        "    self.dL_dW = None\r\n",
        "    self.dL_db = None\r\n",
        "\r\n",
        "  def forward(self, x):\r\n",
        "    self.origin_x_shape = x.shape\r\n",
        "\r\n",
        "    x = x.reshape(x.shape[0],-1)\r\n",
        "    self.x=x\r\n",
        "    out = np.dout(self.x, self.W) + self.b\r\n",
        "\r\n",
        "    return out\r\n",
        "\r\n",
        "  def backward(self, dout):\r\n",
        "    dx = np.dot(dout, self.W.T)\r\n",
        "    self.dL_dW = np.dot(self.x.T, dout)\r\n",
        "    self.dL_db = np.sum(dout, axis=0)\r\n",
        "    dx = dx.reshape(*self.origin_x_shape)\r\n",
        "    return dx"
      ],
      "execution_count": 36,
      "outputs": []
    },
    {
      "cell_type": "markdown",
      "metadata": {
        "id": "AuNEeUehnTZ4"
      },
      "source": [
        "softmax"
      ]
    },
    {
      "cell_type": "code",
      "metadata": {
        "id": "zzqq0AtIkVDW"
      },
      "source": [
        "class Softmax():\r\n",
        "\r\n",
        "  def __init__(self):\r\n",
        "    self.loss = None\r\n",
        "    self.y = None\r\n",
        "    self.t = None\r\n",
        "  \r\n",
        "  def forward(self, x,t):\r\n",
        "    self.t = t\r\n",
        "    self.y = softmax(x)\r\n",
        "    slef.loss = cross_entropy_error(self.y, self.t)\r\n",
        "\r\n",
        "    return self.loss\r\n",
        "\r\n",
        "  def backward(self, dout=1):\r\n",
        "    batch_size = self.t.shape[0]\r\n",
        "\r\n",
        "    if self.t.size == self.y.size:\r\n",
        "      dx = (self.y - self.t) / batch_size\r\n",
        "    else:\r\n",
        "      dx = self.y.copu()\r\n",
        "      dx[np.arange(batch_size), self.t] -=1\r\n",
        "      dx = dx/ batch_size\r\n",
        "\r\n",
        "      return dx\r\n"
      ],
      "execution_count": 37,
      "outputs": []
    },
    {
      "cell_type": "code",
      "metadata": {
        "colab": {
          "base_uri": "https://localhost:8080/",
          "height": 139
        },
        "id": "7afa-HQlnVLp",
        "outputId": "4a847fed-75c5-4904-b133-09e85e153831"
      },
      "source": [
        "class MyModel():\r\n",
        "  \r\n",
        "  def __init__(self, input_size, hidden_size_list, output_size, activation='relu')\r\n",
        "    self.input_size = input_size\r\n",
        "    self.output_size = output_size\r\n",
        "    self.hidden_size_list = hidden_size_list\r\n",
        "    self.hidden_layer_num = len(hidden_size_list)\r\n",
        "    self.params = {}\r\n",
        "\r\n",
        "    self.__init__weights(activation)\r\n",
        "\r\n",
        "    activation_layer = {'sigmoid':Sigmoid, 'relu':ReLu}\r\n",
        "    self.layers = OrderedDict()\r\n",
        "    for idx in range(1, self.hidden_layer_num + 1):\r\n",
        "      self.layers['layer'+str(idx)] = Layer(self.params['W' +str(idx)], self.params['b' +str(idx)])\r\n",
        "      self.layer['Activatino_function' + str(idx)] = activatino_layer[activation]()\r\n",
        "\r\n",
        "    idx = self.hidden_layer_num + 1\r\n",
        "\r\n",
        "    self.layers['Layer' + str(idx)] = Layer(self.params['W' +str(idx)], self.params['b' +str(idx)))\r\n",
        "\r\n",
        "    self.last_layer = Softmax()\r\n",
        "\r\n",
        "  def __init_weights(self,activation):\r\n",
        "    weight_std = None\r\n",
        "    all_size_list = [self.input_size] + self.hidden_size_list + [self.output_size]\r\n",
        "    for idx in range(1, len(all_size_list)):\r\n",
        "      if activatino.lower() == 'relu':\r\n",
        "        weight_std = np.sqrt(2.0/self.input_size)\r\n",
        "      elif activation.lower() == 'sigmoid':\r\n",
        "        weight_std = np.sqrt(1.0 / self.input_size)\r\n",
        "      \r\n",
        "      self.params['W' +str(idx)] = weight_std * np.random.randn(all_size_list[idx-1], all_size_list[idx])\r\n",
        "      self.params['b' + str(idx)] = np.random.randn(all_size_list[idx])\r\n",
        "\r\n",
        "  def predict(self, x):\r\n",
        "     for layer in self.layers.values():\r\n",
        "        x = layer.forward(x)\r\n",
        "\r\n",
        "      return x\r\n",
        "\r\n",
        "  def loss(self, x, true_y):\r\n",
        "      pred_y = self.predict(x)\r\n",
        "\r\n",
        "      return self.last_layer.forward(pred_y, true_y)\r\n",
        "\r\n",
        "  def accuracy(self, x, true_y):\r\n",
        "      pred_y = self.predict(x)\r\n",
        "      pred_y = np.argmax(pred_y, axis=1)\r\n",
        "\r\n",
        "      if true_y.ndim !=1:\r\n",
        "        true_y = np.argmax(true_y, axis=1)\r\n",
        "\r\n",
        "      accuracy = np.sum(pred_y == true_y) / float(x.shape[0])\r\n",
        "      return accuracy\r\n",
        "\r\n",
        "  def gradient(self.x, t):\r\n",
        "      self.loss(x, t)\r\n",
        "\r\n",
        "      dout = 1\r\n",
        "      dout = self.last_layer.backward(dout)\r\n",
        "\r\n",
        "      layers = list(self.layers.values())\r\n",
        "      layers.reverse()\r\n",
        "      for layer in layers:\r\n",
        "        dout = layer.backward(dout)\r\n",
        "\r\n",
        "      grads = {}\r\n",
        "      for idx in range(1, self.hidden_layer_num + 2):\r\n",
        "        grads['W' + str(idx)] = self.layers['Layer'+str(idx)].dL_dW\r\n",
        "        grads['b' + str(idx)] = self.layers['Layer'+str(idx)].dL_db\r\n",
        "\r\n",
        "      return grads"
      ],
      "execution_count": 55,
      "outputs": [
        {
          "output_type": "error",
          "ename": "SyntaxError",
          "evalue": "ignored",
          "traceback": [
            "\u001b[0;36m  File \u001b[0;32m\"<ipython-input-55-9faefdf7cef4>\"\u001b[0;36m, line \u001b[0;32m3\u001b[0m\n\u001b[0;31m    def __init__(self, input_size, hidden_size_list, output_size, activation='relu')\u001b[0m\n\u001b[0m                                                                                    ^\u001b[0m\n\u001b[0;31mSyntaxError\u001b[0m\u001b[0;31m:\u001b[0m invalid syntax\n"
          ]
        }
      ]
    },
    {
      "cell_type": "code",
      "metadata": {
        "id": "7gO7uD8TnVPP"
      },
      "source": [
        ""
      ],
      "execution_count": null,
      "outputs": []
    },
    {
      "cell_type": "code",
      "metadata": {
        "id": "D7eqMnNXnVSJ"
      },
      "source": [
        ""
      ],
      "execution_count": null,
      "outputs": []
    },
    {
      "cell_type": "code",
      "metadata": {
        "id": "suOPBbVFkVFr"
      },
      "source": [
        ""
      ],
      "execution_count": null,
      "outputs": []
    },
    {
      "cell_type": "code",
      "metadata": {
        "id": "LbkUfOupkVIk"
      },
      "source": [
        ""
      ],
      "execution_count": null,
      "outputs": []
    }
  ]
}