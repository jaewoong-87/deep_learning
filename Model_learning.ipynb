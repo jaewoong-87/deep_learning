{
  "nbformat": 4,
  "nbformat_minor": 0,
  "metadata": {
    "colab": {
      "name": "Model learning.ipynb",
      "provenance": [],
      "collapsed_sections": [],
      "authorship_tag": "ABX9TyO5TgPOtkLmKTV2CuQ+YB6j",
      "include_colab_link": true
    },
    "kernelspec": {
      "name": "python3",
      "display_name": "Python 3"
    }
  },
  "cells": [
    {
      "cell_type": "markdown",
      "metadata": {
        "id": "view-in-github",
        "colab_type": "text"
      },
      "source": [
        "<a href=\"https://colab.research.google.com/github/jaewoong-87/deep_learning/blob/main/Model_learning.ipynb\" target=\"_parent\"><img src=\"https://colab.research.google.com/assets/colab-badge.svg\" alt=\"Open In Colab\"/></a>"
      ]
    },
    {
      "cell_type": "markdown",
      "metadata": {
        "id": "X_xxrsxWSYpn"
      },
      "source": [
        "supervised and unsupervised learning"
      ]
    },
    {
      "cell_type": "markdown",
      "metadata": {
        "id": "XGJyuDkgS1Li"
      },
      "source": [
        "hyperparameter - should be handled by human, regarded as constant"
      ]
    },
    {
      "cell_type": "markdown",
      "metadata": {
        "id": "wHclR8kjS_R6"
      },
      "source": [
        "loss function, cost function"
      ]
    },
    {
      "cell_type": "markdown",
      "metadata": {
        "id": "mGyf4iO9TbVC"
      },
      "source": [
        "one-hot encoding - except answer, all of label become 0."
      ]
    },
    {
      "cell_type": "code",
      "metadata": {
        "id": "ZhMxfHrYSR0B"
      },
      "source": [
        "import numpy as np\r\n",
        "\r\n",
        "def convert_one_hot(labels, num_classes):\r\n",
        "  one_hot_result = np.zeros((len(labels), num_classes))\r\n",
        "  for idx, label in enumerate(labels):\r\n",
        "    one_hot_result[idx][label]=1\r\n",
        "\r\n",
        "  return one_hot_result"
      ],
      "execution_count": 1,
      "outputs": []
    },
    {
      "cell_type": "code",
      "metadata": {
        "colab": {
          "base_uri": "https://localhost:8080/"
        },
        "id": "yr14kBnATCSM",
        "outputId": "cbd8d298-95f2-4af7-9e6c-484567b54f27"
      },
      "source": [
        "x_label = [1,2,5,3,7,2,1,3]\r\n",
        "print(convert_one_hot(x_label, max(x_label)+1))"
      ],
      "execution_count": 2,
      "outputs": [
        {
          "output_type": "stream",
          "text": [
            "[[0. 1. 0. 0. 0. 0. 0. 0.]\n",
            " [0. 0. 1. 0. 0. 0. 0. 0.]\n",
            " [0. 0. 0. 0. 0. 1. 0. 0.]\n",
            " [0. 0. 0. 1. 0. 0. 0. 0.]\n",
            " [0. 0. 0. 0. 0. 0. 0. 1.]\n",
            " [0. 0. 1. 0. 0. 0. 0. 0.]\n",
            " [0. 1. 0. 0. 0. 0. 0. 0.]\n",
            " [0. 0. 0. 1. 0. 0. 0. 0.]]\n"
          ],
          "name": "stdout"
        }
      ]
    },
    {
      "cell_type": "code",
      "metadata": {
        "colab": {
          "base_uri": "https://localhost:8080/",
          "height": 171
        },
        "id": "LqS5XWKwTCXm",
        "outputId": "b7ca79d1-5ef2-47ce-e612-c2d6030566f4"
      },
      "source": [
        "import pandas as pd\r\n",
        "\r\n",
        "df = pd.DataFrame({'labels':['a','b','c','d']})\r\n",
        "one_df = pd.get_dummies(df['labels'])\r\n",
        "one_df"
      ],
      "execution_count": 3,
      "outputs": [
        {
          "output_type": "execute_result",
          "data": {
            "text/html": [
              "<div>\n",
              "<style scoped>\n",
              "    .dataframe tbody tr th:only-of-type {\n",
              "        vertical-align: middle;\n",
              "    }\n",
              "\n",
              "    .dataframe tbody tr th {\n",
              "        vertical-align: top;\n",
              "    }\n",
              "\n",
              "    .dataframe thead th {\n",
              "        text-align: right;\n",
              "    }\n",
              "</style>\n",
              "<table border=\"1\" class=\"dataframe\">\n",
              "  <thead>\n",
              "    <tr style=\"text-align: right;\">\n",
              "      <th></th>\n",
              "      <th>a</th>\n",
              "      <th>b</th>\n",
              "      <th>c</th>\n",
              "      <th>d</th>\n",
              "    </tr>\n",
              "  </thead>\n",
              "  <tbody>\n",
              "    <tr>\n",
              "      <th>0</th>\n",
              "      <td>1</td>\n",
              "      <td>0</td>\n",
              "      <td>0</td>\n",
              "      <td>0</td>\n",
              "    </tr>\n",
              "    <tr>\n",
              "      <th>1</th>\n",
              "      <td>0</td>\n",
              "      <td>1</td>\n",
              "      <td>0</td>\n",
              "      <td>0</td>\n",
              "    </tr>\n",
              "    <tr>\n",
              "      <th>2</th>\n",
              "      <td>0</td>\n",
              "      <td>0</td>\n",
              "      <td>1</td>\n",
              "      <td>0</td>\n",
              "    </tr>\n",
              "    <tr>\n",
              "      <th>3</th>\n",
              "      <td>0</td>\n",
              "      <td>0</td>\n",
              "      <td>0</td>\n",
              "      <td>1</td>\n",
              "    </tr>\n",
              "  </tbody>\n",
              "</table>\n",
              "</div>"
            ],
            "text/plain": [
              "   a  b  c  d\n",
              "0  1  0  0  0\n",
              "1  0  1  0  0\n",
              "2  0  0  1  0\n",
              "3  0  0  0  1"
            ]
          },
          "metadata": {
            "tags": []
          },
          "execution_count": 3
        }
      ]
    },
    {
      "cell_type": "markdown",
      "metadata": {
        "id": "wDZILsvqUXeJ"
      },
      "source": [
        "Mean Absolute Error MAE"
      ]
    },
    {
      "cell_type": "code",
      "metadata": {
        "id": "z2ORl6dqTCaf"
      },
      "source": [
        "def MAE(y, pred_y):\r\n",
        "  return np.mean(np.abs((y - pred_y)))"
      ],
      "execution_count": 5,
      "outputs": []
    },
    {
      "cell_type": "code",
      "metadata": {
        "colab": {
          "base_uri": "https://localhost:8080/",
          "height": 262
        },
        "id": "IA3QuJZ6U7d-",
        "outputId": "3ed074a2-43cd-4cd9-c282-60376e434c9a"
      },
      "source": [
        "import matplotlib.pyplot as plt\r\n",
        "plt.style.use(['seaborn-whitegrid'])\r\n",
        "\r\n",
        "y = np.array([-3,1,5,2,1,3,5,-2,-3,-2,-8,1,3])\r\n",
        "yhat = np.array([-3,1,3,2,1,3,5,-1,-3,-5,-8,1,3])\r\n",
        "x = list(range(len(y)))\r\n",
        "\r\n",
        "plt.scatter(x, y, color='b', label='True')\r\n",
        "plt.plot(x, yhat, color='r', label='Pred')\r\n",
        "plt.legend()\r\n",
        "plt.grid()\r\n",
        "plt.show()"
      ],
      "execution_count": 7,
      "outputs": [
        {
          "output_type": "display_data",
          "data": {
            "image/png": "[encoded data removed]",
            "text/plain": [
              "<Figure size 432x288 with 1 Axes>"
            ]
          },
          "metadata": {
            "tags": []
          }
        }
      ]
    },
    {
      "cell_type": "code",
      "metadata": {
        "colab": {
          "base_uri": "https://localhost:8080/"
        },
        "id": "onvSKTa2U7hH",
        "outputId": "2fd454b8-16ef-46bd-b3e8-f66eaef00a61"
      },
      "source": [
        "print(MAE(y,yhat))"
      ],
      "execution_count": 8,
      "outputs": [
        {
          "output_type": "stream",
          "text": [
            "0.46153846153846156\n"
          ],
          "name": "stdout"
        }
      ]
    },
    {
      "cell_type": "markdown",
      "metadata": {
        "id": "qzWdNSlDWNsu"
      },
      "source": [
        "Mean Squared Error, MSE"
      ]
    },
    {
      "cell_type": "code",
      "metadata": {
        "id": "tcY2WvACU7kK"
      },
      "source": [
        "def MSE(y, pred_y):\r\n",
        "  return 0.5 * (np.sum(np.square(y - pred_y)))\r\n"
      ],
      "execution_count": 9,
      "outputs": []
    },
    {
      "cell_type": "code",
      "metadata": {
        "colab": {
          "base_uri": "https://localhost:8080/",
          "height": 262
        },
        "id": "zzN8TG1YU7nC",
        "outputId": "db57f20f-033c-4239-ef5a-cd456f2dff87"
      },
      "source": [
        "y = np.array([-3,1,5,2,1,3,5,-2,-3,-2,-8,1,3])\r\n",
        "yhat = np.array([-3,1,3,2,1,3,5,-1,-3,-5,-8,1,3])\r\n",
        "x = list(range(len(y)))\r\n",
        "\r\n",
        "plt.scatter(x, y, color='b', label='True')\r\n",
        "plt.plot(x, yhat, color='r', label='Pred')\r\n",
        "plt.legend()\r\n",
        "plt.grid()\r\n",
        "plt.show()"
      ],
      "execution_count": 10,
      "outputs": [
        {
          "output_type": "display_data",
          "data": {
            "image/png": "[encoded data removed]",
            "text/plain": [
              "<Figure size 432x288 with 1 Axes>"
            ]
          },
          "metadata": {
            "tags": []
          }
        }
      ]
    },
    {
      "cell_type": "code",
      "metadata": {
        "colab": {
          "base_uri": "https://localhost:8080/"
        },
        "id": "f10a4HJAU7qQ",
        "outputId": "67a1f384-f11d-4684-9e40-dad1b3d40bf2"
      },
      "source": [
        "print(MSE(y,yhat))"
      ],
      "execution_count": 11,
      "outputs": [
        {
          "output_type": "stream",
          "text": [
            "7.0\n"
          ],
          "name": "stdout"
        }
      ]
    },
    {
      "cell_type": "markdown",
      "metadata": {
        "id": "TJpuYrVkWnJK"
      },
      "source": [
        "Comparison MAE and MSE"
      ]
    },
    {
      "cell_type": "markdown",
      "metadata": {
        "id": "cCNhoH5RWtxm"
      },
      "source": [
        "Cross Entropy Error, CEE"
      ]
    },
    {
      "cell_type": "code",
      "metadata": {
        "id": "ZVxidkmqTCeO"
      },
      "source": [
        "def CEE(y_pred, y_true):\r\n",
        "  delta = 1e-7\r\n",
        "  return -np.sum(y_true * np.log(y_pred + delta)) # to prevent limit."
      ],
      "execution_count": 12,
      "outputs": []
    },
    {
      "cell_type": "code",
      "metadata": {
        "colab": {
          "base_uri": "https://localhost:8080/"
        },
        "id": "Oy79YKR9TChI",
        "outputId": "5acdc944-c1ea-4c1f-d274-f5f55ea0f1e4"
      },
      "source": [
        "y = np.array([0,0,0,0,0,0,1,0,0,0,0,1])\r\n",
        "yhat = np.array([0.01,0,1,0,0.5,0,1,1.1,0,0,0,1])\r\n",
        "print(\"yhat sum:\", np.sum(yhat))\r\n",
        "print(CEE(yhat, y))\r\n",
        "print('------')\r\n",
        "y = np.array([0,0,0,0,0,0,2,0,0,0,0,1])\r\n",
        "yhat = np.array([0.01,0,1,1,0.5,0,1,1.1,0,0,0,1])\r\n",
        "print(\"yhat sum:\", np.sum(yhat))\r\n",
        "print(CEE(yhat, y))\r\n",
        "print('------')"
      ],
      "execution_count": 14,
      "outputs": [
        {
          "output_type": "stream",
          "text": [
            "yhat sum: 4.61\n",
            "-1.999999901167741e-07\n",
            "------\n",
            "yhat sum: 5.609999999999999\n",
            "-2.9999998517516116e-07\n",
            "------\n"
          ],
          "name": "stdout"
        }
      ]
    }
  ]
}