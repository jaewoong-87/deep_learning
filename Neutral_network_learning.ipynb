{
  "nbformat": 4,
  "nbformat_minor": 0,
  "metadata": {
    "colab": {
      "name": "Neutral network learning.ipynb",
      "provenance": [],
      "authorship_tag": "ABX9TyP1H0g3AkABMG70oBuY6toU",
      "include_colab_link": true
    },
    "kernelspec": {
      "name": "python3",
      "display_name": "Python 3"
    },
    "widgets": {
      "application/vnd.jupyter.widget-state+json": {
        "6993e6cf2ca94d96885d10660e663051": {
          "model_module": "@jupyter-widgets/controls",
          "model_name": "HBoxModel",
          "state": {
            "_view_name": "HBoxView",
            "_dom_classes": [],
            "_model_name": "HBoxModel",
            "_view_module": "@jupyter-widgets/controls",
            "_model_module_version": "1.5.0",
            "_view_count": null,
            "_view_module_version": "1.5.0",
            "box_style": "",
            "layout": "IPY_MODEL_433dc37fd1c84271aac3c4b9522565bd",
            "_model_module": "@jupyter-widgets/controls",
            "children": [
              "IPY_MODEL_c9491f88f094487bbc4f38bf47eb2bfb",
              "IPY_MODEL_8c05dbe691c54129b59cd1370569ae27"
            ]
          }
        },
        "433dc37fd1c84271aac3c4b9522565bd": {
          "model_module": "@jupyter-widgets/base",
          "model_name": "LayoutModel",
          "state": {
            "_view_name": "LayoutView",
            "grid_template_rows": null,
            "right": null,
            "justify_content": null,
            "_view_module": "@jupyter-widgets/base",
            "overflow": null,
            "_model_module_version": "1.2.0",
            "_view_count": null,
            "flex_flow": null,
            "width": null,
            "min_width": null,
            "border": null,
            "align_items": null,
            "bottom": null,
            "_model_module": "@jupyter-widgets/base",
            "top": null,
            "grid_column": null,
            "overflow_y": null,
            "overflow_x": null,
            "grid_auto_flow": null,
            "grid_area": null,
            "grid_template_columns": null,
            "flex": null,
            "_model_name": "LayoutModel",
            "justify_items": null,
            "grid_row": null,
            "max_height": null,
            "align_content": null,
            "visibility": null,
            "align_self": null,
            "height": null,
            "min_height": null,
            "padding": null,
            "grid_auto_rows": null,
            "grid_gap": null,
            "max_width": null,
            "order": null,
            "_view_module_version": "1.2.0",
            "grid_template_areas": null,
            "object_position": null,
            "object_fit": null,
            "grid_auto_columns": null,
            "margin": null,
            "display": null,
            "left": null
          }
        },
        "c9491f88f094487bbc4f38bf47eb2bfb": {
          "model_module": "@jupyter-widgets/controls",
          "model_name": "FloatProgressModel",
          "state": {
            "_view_name": "ProgressView",
            "style": "IPY_MODEL_a006422111f54affa8d0da370f3924c9",
            "_dom_classes": [],
            "description": "  0%",
            "_model_name": "FloatProgressModel",
            "bar_style": "danger",
            "max": 2,
            "_view_module": "@jupyter-widgets/controls",
            "_model_module_version": "1.5.0",
            "value": 0,
            "_view_count": null,
            "_view_module_version": "1.5.0",
            "orientation": "horizontal",
            "min": 0,
            "description_tooltip": null,
            "_model_module": "@jupyter-widgets/controls",
            "layout": "IPY_MODEL_680521f1ffd34284af423a7cb497c9ee"
          }
        },
        "8c05dbe691c54129b59cd1370569ae27": {
          "model_module": "@jupyter-widgets/controls",
          "model_name": "HTMLModel",
          "state": {
            "_view_name": "HTMLView",
            "style": "IPY_MODEL_20fcc5f0d038481ab64bdf59a00157e7",
            "_dom_classes": [],
            "description": "",
            "_model_name": "HTMLModel",
            "placeholder": "​",
            "_view_module": "@jupyter-widgets/controls",
            "_model_module_version": "1.5.0",
            "value": " 0/2 [00:00&lt;?, ?it/s]",
            "_view_count": null,
            "_view_module_version": "1.5.0",
            "description_tooltip": null,
            "_model_module": "@jupyter-widgets/controls",
            "layout": "IPY_MODEL_a7cc367bb70b4d03aab28a301bc66216"
          }
        },
        "a006422111f54affa8d0da370f3924c9": {
          "model_module": "@jupyter-widgets/controls",
          "model_name": "ProgressStyleModel",
          "state": {
            "_view_name": "StyleView",
            "_model_name": "ProgressStyleModel",
            "description_width": "initial",
            "_view_module": "@jupyter-widgets/base",
            "_model_module_version": "1.5.0",
            "_view_count": null,
            "_view_module_version": "1.2.0",
            "bar_color": null,
            "_model_module": "@jupyter-widgets/controls"
          }
        },
        "680521f1ffd34284af423a7cb497c9ee": {
          "model_module": "@jupyter-widgets/base",
          "model_name": "LayoutModel",
          "state": {
            "_view_name": "LayoutView",
            "grid_template_rows": null,
            "right": null,
            "justify_content": null,
            "_view_module": "@jupyter-widgets/base",
            "overflow": null,
            "_model_module_version": "1.2.0",
            "_view_count": null,
            "flex_flow": null,
            "width": null,
            "min_width": null,
            "border": null,
            "align_items": null,
            "bottom": null,
            "_model_module": "@jupyter-widgets/base",
            "top": null,
            "grid_column": null,
            "overflow_y": null,
            "overflow_x": null,
            "grid_auto_flow": null,
            "grid_area": null,
            "grid_template_columns": null,
            "flex": null,
            "_model_name": "LayoutModel",
            "justify_items": null,
            "grid_row": null,
            "max_height": null,
            "align_content": null,
            "visibility": null,
            "align_self": null,
            "height": null,
            "min_height": null,
            "padding": null,
            "grid_auto_rows": null,
            "grid_gap": null,
            "max_width": null,
            "order": null,
            "_view_module_version": "1.2.0",
            "grid_template_areas": null,
            "object_position": null,
            "object_fit": null,
            "grid_auto_columns": null,
            "margin": null,
            "display": null,
            "left": null
          }
        },
        "20fcc5f0d038481ab64bdf59a00157e7": {
          "model_module": "@jupyter-widgets/controls",
          "model_name": "DescriptionStyleModel",
          "state": {
            "_view_name": "StyleView",
            "_model_name": "DescriptionStyleModel",
            "description_width": "",
            "_view_module": "@jupyter-widgets/base",
            "_model_module_version": "1.5.0",
            "_view_count": null,
            "_view_module_version": "1.2.0",
            "_model_module": "@jupyter-widgets/controls"
          }
        },
        "a7cc367bb70b4d03aab28a301bc66216": {
          "model_module": "@jupyter-widgets/base",
          "model_name": "LayoutModel",
          "state": {
            "_view_name": "LayoutView",
            "grid_template_rows": null,
            "right": null,
            "justify_content": null,
            "_view_module": "@jupyter-widgets/base",
            "overflow": null,
            "_model_module_version": "1.2.0",
            "_view_count": null,
            "flex_flow": null,
            "width": null,
            "min_width": null,
            "border": null,
            "align_items": null,
            "bottom": null,
            "_model_module": "@jupyter-widgets/base",
            "top": null,
            "grid_column": null,
            "overflow_y": null,
            "overflow_x": null,
            "grid_auto_flow": null,
            "grid_area": null,
            "grid_template_columns": null,
            "flex": null,
            "_model_name": "LayoutModel",
            "justify_items": null,
            "grid_row": null,
            "max_height": null,
            "align_content": null,
            "visibility": null,
            "align_self": null,
            "height": null,
            "min_height": null,
            "padding": null,
            "grid_auto_rows": null,
            "grid_gap": null,
            "max_width": null,
            "order": null,
            "_view_module_version": "1.2.0",
            "grid_template_areas": null,
            "object_position": null,
            "object_fit": null,
            "grid_auto_columns": null,
            "margin": null,
            "display": null,
            "left": null
          }
        }
      }
    }
  },
  "cells": [
    {
      "cell_type": "markdown",
      "metadata": {
        "id": "view-in-github",
        "colab_type": "text"
      },
      "source": [
        "<a href=\"https://colab.research.google.com/github/jaewoong-87/deep_learning/blob/main/Neutral_network_learning.ipynb\" target=\"_parent\"><img src=\"https://colab.research.google.com/assets/colab-badge.svg\" alt=\"Open In Colab\"/></a>"
      ]
    },
    {
      "cell_type": "markdown",
      "metadata": {
        "id": "UlScZbU71qee"
      },
      "source": [
        "Logic gate"
      ]
    },
    {
      "cell_type": "code",
      "metadata": {
        "id": "lfE8QLz51j9c"
      },
      "source": [
        "import numpy as np\r\n",
        "import matplotlib.pyplot as plt\r\n",
        "plt.style.use('seaborn-whitegrid')"
      ],
      "execution_count": 1,
      "outputs": []
    },
    {
      "cell_type": "code",
      "metadata": {
        "id": "-mOpMQhw1su5"
      },
      "source": [
        "epochs = 1000\r\n",
        "lr = 0.1"
      ],
      "execution_count": 2,
      "outputs": []
    },
    {
      "cell_type": "markdown",
      "metadata": {
        "id": "NxVS20sG14JR"
      },
      "source": [
        "util function"
      ]
    },
    {
      "cell_type": "code",
      "metadata": {
        "id": "dUfUgKy51sxU"
      },
      "source": [
        "def sigmoid(x):\r\n",
        "  return 1/(1+np.exp(-x))\r\n",
        "\r\n",
        "def mean_squared_error(pred_y, true_y):\r\n",
        "  return 0.5 * (np.sum(true_y - pred_y)**2)\r\n",
        "\r\n",
        "def cross_entropy_error(pred_y, true_y):\r\n",
        "  if true_y.ndim == 1:\r\n",
        "    true_y = true_y.reshape(1, -1)\r\n",
        "    pred_y = pred_y.reshape(1, -1)\r\n",
        "\r\n",
        "  delta = 1e-7\r\n",
        "  return -np.sum(true_y * np.log(pred_y + delta))\r\n",
        "\r\n",
        "def cross_entropy_error_for_batch(pred_y, true_y):\r\n",
        "  if true_y.ndim == 1:\r\n",
        "    true_y = true_y.reshape(1, -1)\r\n",
        "    pred_y = pred_y.reshape(1, -1)\r\n",
        "\r\n",
        "  delta = 1e-7\r\n",
        "  batch_size = pred_y.shape[0]\r\n",
        "  return -np.sum(true_y * np.log(pred_y + delta)) / batch_size\r\n",
        "\r\n",
        "def cross_entropy_error_for_bin(pred_y, true_y):\r\n",
        "  return 0.5 * np.sum((-true_y * np.log(pred_y) - (1 - true_y)* np.log(1 - pred_y)))\r\n",
        "\r\n",
        "def softmax(a):\r\n",
        "  exp_a = np.exp(a)\r\n",
        "  sum_exp_a=np.sum(exp_a)\r\n",
        "  y = exp_a / sum_exp_a\r\n",
        "\r\n",
        "  return y\r\n",
        "\r\n",
        "def differential(f, x):\r\n",
        "  eps = 1e-5\r\n",
        "  diff_value = np.zeros_like(x)\r\n",
        "\r\n",
        "  for i in range(x.shape[0]):\r\n",
        "    temp_val = x[i]\r\n",
        "\r\n",
        "    x[i] = temp_val + eps\r\n",
        "    f_h1 = f(x)\r\n",
        "\r\n",
        "    x[i] = temp_val - epochs\r\n",
        "    f_h2 = f(x)\r\n",
        "\r\n",
        "    diff_value[i] = (f_h1 - f_h2) / (2 * eps)\r\n",
        "    x[i] = temp_val\r\n",
        "\r\n",
        "    return diff_value"
      ],
      "execution_count": 5,
      "outputs": []
    },
    {
      "cell_type": "code",
      "metadata": {
        "id": "MW5_PGyT1sze"
      },
      "source": [
        "class LogicGateNet():\r\n",
        "\r\n",
        "  def __init__(self):\r\n",
        "    def weight_init():\r\n",
        "      np.random.seed(1)\r\n",
        "      weights = np.random.randn(2)\r\n",
        "      bias = np.random.rand(1)\r\n",
        "\r\n",
        "      return weights, bias\r\n",
        "\r\n",
        "    self.weights, self.bias = weight_init()\r\n",
        "\r\n",
        "  def predict(self, x):\r\n",
        "    W = self.weights.reshape(-1, 1)\r\n",
        "    b = self.bias\r\n",
        "\r\n",
        "    pred_y = sigmoid(np.dot(x, W) + b)\r\n",
        "    return pred_y\r\n",
        "\r\n",
        "  def loss(self, x, true_y):\r\n",
        "    pred_y = self.predict(x)\r\n",
        "    return cross_entropy_error_for_bin(pred_y, true_y)\r\n",
        "\r\n",
        "  def get_gradient(self, x, t):\r\n",
        "    def loss_grad(grad):\r\n",
        "      return self.loss(x,t)\r\n",
        "\r\n",
        "    grad_W = differential(loss_grad, self.weights)\r\n",
        "    grad_B = differential(loss_grad, self.bias)\r\n",
        "\r\n",
        "    return grad_W, grad_B"
      ],
      "execution_count": 7,
      "outputs": []
    },
    {
      "cell_type": "markdown",
      "metadata": {
        "id": "0wHS0jNQ4yQ-"
      },
      "source": [
        "AND Gate"
      ]
    },
    {
      "cell_type": "code",
      "metadata": {
        "colab": {
          "base_uri": "https://localhost:8080/"
        },
        "id": "gy8mtWq71s2x",
        "outputId": "6ba90ecf-4603-466c-bb16-376a59ae051a"
      },
      "source": [
        "AND = LogicGateNet()\r\n",
        "\r\n",
        "X = np.array([[0,0],[0,1],[1,0],[1,1]])\r\n",
        "Y = np.array([[0],[0],[0],[1]])\r\n",
        "\r\n",
        "train_loss_list = list()\r\n",
        "\r\n",
        "for i in range(epochs):\r\n",
        "  grad_W, grad_B = AND.get_gradient(X, Y)\r\n",
        "\r\n",
        "  AND.weights -= lr * grad_W\r\n",
        "  AND.bias -= lr * grad_B\r\n",
        "\r\n",
        "  loss = AND.loss(X,Y)\r\n",
        "  train_loss_list.append(loss)\r\n",
        "\r\n",
        "  if i % 100 == 99:\r\n",
        "    print(\"epoch:{} , cost:{}. weight:{}. bias:{}\".format(i+1,loss, AND.weights, AND.bias))\r\n"
      ],
      "execution_count": 13,
      "outputs": [
        {
          "output_type": "stream",
          "text": [
            "epoch:100 , cost:nan. weight:[        nan -0.61175641]. bias:[nan]\n",
            "epoch:200 , cost:nan. weight:[        nan -0.61175641]. bias:[nan]\n",
            "epoch:300 , cost:nan. weight:[        nan -0.61175641]. bias:[nan]\n",
            "epoch:400 , cost:nan. weight:[        nan -0.61175641]. bias:[nan]\n",
            "epoch:500 , cost:nan. weight:[        nan -0.61175641]. bias:[nan]\n",
            "epoch:600 , cost:nan. weight:[        nan -0.61175641]. bias:[nan]\n",
            "epoch:700 , cost:nan. weight:[        nan -0.61175641]. bias:[nan]\n",
            "epoch:800 , cost:nan. weight:[        nan -0.61175641]. bias:[nan]\n",
            "epoch:900 , cost:nan. weight:[        nan -0.61175641]. bias:[nan]\n",
            "epoch:1000 , cost:nan. weight:[        nan -0.61175641]. bias:[nan]\n"
          ],
          "name": "stdout"
        },
        {
          "output_type": "stream",
          "text": [
            "/usr/local/lib/python3.6/dist-packages/ipykernel_launcher.py:2: RuntimeWarning: overflow encountered in exp\n",
            "  \n",
            "/usr/local/lib/python3.6/dist-packages/ipykernel_launcher.py:25: RuntimeWarning: divide by zero encountered in log\n",
            "/usr/local/lib/python3.6/dist-packages/ipykernel_launcher.py:25: RuntimeWarning: invalid value encountered in multiply\n"
          ],
          "name": "stderr"
        }
      ]
    },
    {
      "cell_type": "code",
      "metadata": {
        "colab": {
          "base_uri": "https://localhost:8080/"
        },
        "id": "sl0zjORg1s5x",
        "outputId": "86c5cbfe-37e6-401e-8d9f-77b1494c84e0"
      },
      "source": [
        "print(AND.predict(X))"
      ],
      "execution_count": 14,
      "outputs": [
        {
          "output_type": "stream",
          "text": [
            "[[nan]\n",
            " [nan]\n",
            " [nan]\n",
            " [nan]]\n"
          ],
          "name": "stdout"
        }
      ]
    },
    {
      "cell_type": "markdown",
      "metadata": {
        "id": "Ff4n0gNm6OnS"
      },
      "source": [
        "OR Gate"
      ]
    },
    {
      "cell_type": "code",
      "metadata": {
        "colab": {
          "base_uri": "https://localhost:8080/"
        },
        "id": "fdecGON81s84",
        "outputId": "ee2ed33c-0c39-4c0a-9eda-e04aff4ec24a"
      },
      "source": [
        "OR = LogicGateNet()\r\n",
        "\r\n",
        "X = np.array([[0,0],[0,1],[1,0],[1,1]])\r\n",
        "Y_2 = np.array([[0],[1],[1],[1]])\r\n",
        "\r\n",
        "train_loss_list = list()\r\n",
        "\r\n",
        "for i in range(epochs):\r\n",
        "  grad_W, grad_B = OR.get_gradient(X, Y_2)\r\n",
        "\r\n",
        "  OR.weights -= lr * grad_W\r\n",
        "  OR.bias -= lr * grad_B\r\n",
        "\r\n",
        "  loss = OR.loss(X,Y_2)\r\n",
        "  train_loss_list.append(loss)\r\n",
        "\r\n",
        "  if i % 100 == 99:\r\n",
        "    print(\"epoch:{} , cost:{}. weight:{}. bias:{}\".format(i+1,loss, OR.weights, OR.bias))"
      ],
      "execution_count": 15,
      "outputs": [
        {
          "output_type": "stream",
          "text": [
            "epoch:100 , cost:nan. weight:[        nan -0.61175641]. bias:[nan]\n",
            "epoch:200 , cost:nan. weight:[        nan -0.61175641]. bias:[nan]\n",
            "epoch:300 , cost:nan. weight:[        nan -0.61175641]. bias:[nan]\n",
            "epoch:400 , cost:nan. weight:[        nan -0.61175641]. bias:[nan]\n",
            "epoch:500 , cost:nan. weight:[        nan -0.61175641]. bias:[nan]\n",
            "epoch:600 , cost:nan. weight:[        nan -0.61175641]. bias:[nan]\n",
            "epoch:700 , cost:nan. weight:[        nan -0.61175641]. bias:[nan]\n",
            "epoch:800 , cost:nan. weight:[        nan -0.61175641]. bias:[nan]\n",
            "epoch:900 , cost:nan. weight:[        nan -0.61175641]. bias:[nan]\n",
            "epoch:1000 , cost:nan. weight:[        nan -0.61175641]. bias:[nan]\n"
          ],
          "name": "stdout"
        },
        {
          "output_type": "stream",
          "text": [
            "/usr/local/lib/python3.6/dist-packages/ipykernel_launcher.py:2: RuntimeWarning: overflow encountered in exp\n",
            "  \n",
            "/usr/local/lib/python3.6/dist-packages/ipykernel_launcher.py:25: RuntimeWarning: divide by zero encountered in log\n",
            "/usr/local/lib/python3.6/dist-packages/ipykernel_launcher.py:25: RuntimeWarning: invalid value encountered in multiply\n"
          ],
          "name": "stderr"
        }
      ]
    },
    {
      "cell_type": "code",
      "metadata": {
        "colab": {
          "base_uri": "https://localhost:8080/"
        },
        "id": "pfxrxUKF1tDh",
        "outputId": "182197a5-2dd7-46d0-c74e-8c3912b0bf88"
      },
      "source": [
        "print(OR.predict(X))"
      ],
      "execution_count": 16,
      "outputs": [
        {
          "output_type": "stream",
          "text": [
            "[[nan]\n",
            " [nan]\n",
            " [nan]\n",
            " [nan]]\n"
          ],
          "name": "stdout"
        }
      ]
    },
    {
      "cell_type": "markdown",
      "metadata": {
        "id": "HQeThmuG7K0j"
      },
      "source": [
        "MNIST"
      ]
    },
    {
      "cell_type": "code",
      "metadata": {
        "id": "M0Ql7CBd1tGM"
      },
      "source": [
        "import tensorflow as tf\r\n",
        "import time\r\n",
        "from tqdm.notebook import tqdm"
      ],
      "execution_count": 17,
      "outputs": []
    },
    {
      "cell_type": "code",
      "metadata": {
        "colab": {
          "base_uri": "https://localhost:8080/"
        },
        "id": "wwAh-6lo7Sww",
        "outputId": "fa33ae63-d577-42f7-83e0-4d7a14c2f7be"
      },
      "source": [
        "mnist =tf.keras.datasets.mnist\r\n",
        "(x_train, y_train),(x_test, y_test) = mnist.load_data()"
      ],
      "execution_count": 18,
      "outputs": [
        {
          "output_type": "stream",
          "text": [
            "Downloading data from https://storage.googleapis.com/tensorflow/tf-keras-datasets/mnist.npz\n",
            "11493376/11490434 [==============================] - 0s 0us/step\n"
          ],
          "name": "stdout"
        }
      ]
    },
    {
      "cell_type": "code",
      "metadata": {
        "colab": {
          "base_uri": "https://localhost:8080/"
        },
        "id": "FU1USQwb7TEv",
        "outputId": "1f7c244c-0303-40bb-e60c-d83cd19cb845"
      },
      "source": [
        "print(x_train.shape)\r\n",
        "print(y_train.shape)\r\n",
        "print(x_test.shape)\r\n",
        "print(y_test.shape)"
      ],
      "execution_count": 19,
      "outputs": [
        {
          "output_type": "stream",
          "text": [
            "(60000, 28, 28)\n",
            "(60000,)\n",
            "(10000, 28, 28)\n",
            "(10000,)\n"
          ],
          "name": "stdout"
        }
      ]
    },
    {
      "cell_type": "code",
      "metadata": {
        "colab": {
          "base_uri": "https://localhost:8080/",
          "height": 281
        },
        "id": "MGLEa8q27cWh",
        "outputId": "b065a3dd-c593-424a-b50f-ec634d85e0a3"
      },
      "source": [
        "img = x_train[0]\r\n",
        "print(img.shape)\r\n",
        "\r\n",
        "plt.imshow(img, cmap='gray')\r\n",
        "plt.show()"
      ],
      "execution_count": 20,
      "outputs": [
        {
          "output_type": "stream",
          "text": [
            "(28, 28)\n"
          ],
          "name": "stdout"
        },
        {
          "output_type": "display_data",
          "data": {
            "image/png": "[encoded data removed]",
            "text/plain": [
              "<Figure size 432x288 with 1 Axes>"
            ]
          },
          "metadata": {
            "tags": [],
            "needs_background": "light"
          }
        }
      ]
    },
    {
      "cell_type": "code",
      "metadata": {
        "colab": {
          "base_uri": "https://localhost:8080/"
        },
        "id": "49U_MeGx7cZT",
        "outputId": "de1ad30e-dc44-4486-9ee6-9dc0d311b00c"
      },
      "source": [
        "y_train[0]"
      ],
      "execution_count": 21,
      "outputs": [
        {
          "output_type": "execute_result",
          "data": {
            "text/plain": [
              "5"
            ]
          },
          "metadata": {
            "tags": []
          },
          "execution_count": 21
        }
      ]
    },
    {
      "cell_type": "markdown",
      "metadata": {
        "id": "ji1Qhgje7wwW"
      },
      "source": [
        "data preprocessing"
      ]
    },
    {
      "cell_type": "code",
      "metadata": {
        "id": "k88ZCqkT7ccS"
      },
      "source": [
        "def flatten_for_mnist(x):\r\n",
        "  temp = np.zeros((x.shape[0], x[0].size))\r\n",
        "\r\n",
        "  for idx, data in enumerate(x):\r\n",
        "    temp[idx,:] = data.flatten()\r\n",
        "\r\n",
        "  return temp"
      ],
      "execution_count": 22,
      "outputs": []
    },
    {
      "cell_type": "code",
      "metadata": {
        "colab": {
          "base_uri": "https://localhost:8080/"
        },
        "id": "CjCPB1PL7cfP",
        "outputId": "36be8569-aeaf-4e6b-a76f-c118e989bbb1"
      },
      "source": [
        "x_train, x_test = x_train /255.0, x_test / 255.0 #normalization\r\n",
        "\r\n",
        "x_train = flatten_for_mnist(x_train)  #flatten x_train and x_test\r\n",
        "x_test = flatten_for_mnist(x_test)\r\n",
        "\r\n",
        "print(x_train.shape)\r\n",
        "print(x_test.shape)\r\n",
        "\r\n",
        "y_train_ohe = tf.one_hot(y_train, depth=10).numpy()\r\n",
        "y_test_ohe = tf.one_hot(y_test, depth=10).numpy()\r\n",
        "\r\n",
        "print(y_train_ohe.shape)\r\n",
        "print(y_test_ohe.shape)"
      ],
      "execution_count": 24,
      "outputs": [
        {
          "output_type": "stream",
          "text": [
            "(60000, 784)\n",
            "(10000, 784)\n",
            "(60000, 10)\n",
            "(10000, 10)\n"
          ],
          "name": "stdout"
        }
      ]
    },
    {
      "cell_type": "code",
      "metadata": {
        "colab": {
          "base_uri": "https://localhost:8080/"
        },
        "id": "pq-S-3cT7cjB",
        "outputId": "5c776a29-bc1e-4cd6-83c1-32377fb88eb1"
      },
      "source": [
        "print(x_train[0].max(), x_train[0].min())\r\n",
        "print(y_train_ohe[0])"
      ],
      "execution_count": 25,
      "outputs": [
        {
          "output_type": "stream",
          "text": [
            "0.00392156862745098 0.0\n",
            "[0. 0. 0. 0. 0. 1. 0. 0. 0. 0.]\n"
          ],
          "name": "stdout"
        }
      ]
    },
    {
      "cell_type": "markdown",
      "metadata": {
        "id": "_vGxO91Q8_5i"
      },
      "source": [
        "hyper parameter"
      ]
    },
    {
      "cell_type": "code",
      "metadata": {
        "id": "JzkLn_q87TLE"
      },
      "source": [
        "epochs = 2\r\n",
        "lr = 0.1\r\n",
        "batch_size = 100\r\n",
        "train_size = x_train.shape[0]"
      ],
      "execution_count": 26,
      "outputs": []
    },
    {
      "cell_type": "code",
      "metadata": {
        "id": "g8IA-pkM7TOw"
      },
      "source": [
        "def sigmoid(x):\r\n",
        "  return 1/(1+np.exp(-x))\r\n",
        "\r\n",
        "def mean_squared_error(pred_y, true_y):\r\n",
        "  return 0.5 * (np.sum(true_y - pred_y)**2)\r\n",
        "\r\n",
        "def cross_entropy_error(pred_y, true_y):\r\n",
        "  if true_y.ndim == 1:\r\n",
        "    true_y = true_y.reshape(1, -1)\r\n",
        "    pred_y = pred_y.reshape(1, -1)\r\n",
        "\r\n",
        "  delta = 1e-7\r\n",
        "  return -np.sum(true_y * np.log(pred_y + delta))\r\n",
        "\r\n",
        "def cross_entropy_error_for_batch(pred_y, true_y):\r\n",
        "  if true_y.ndim == 1:\r\n",
        "    true_y = true_y.reshape(1, -1)\r\n",
        "    pred_y = pred_y.reshape(1, -1)\r\n",
        "\r\n",
        "  delta = 1e-7\r\n",
        "  batch_size = pred_y.shape[0]\r\n",
        "  return -np.sum(true_y * np.log(pred_y + delta)) / batch_size\r\n",
        "\r\n",
        "def cross_entropy_error_for_bin(pred_y, true_y):\r\n",
        "  return 0.5 * np.sum((-true_y * np.log(pred_y) - (1 - true_y)* np.log(1 - pred_y)))\r\n",
        "\r\n",
        "def softmax(a):\r\n",
        "  exp_a = np.exp(a)\r\n",
        "  sum_exp_a=np.sum(exp_a)\r\n",
        "  y = exp_a / sum_exp_a\r\n",
        "\r\n",
        "  return y\r\n",
        "\r\n",
        "def differential_1d(f, x):\r\n",
        "  \r\n",
        "  eps = 1e-5\r\n",
        "  diff_value = np.zeros_like(x)\r\n",
        "\r\n",
        "  for i in range(x.shape[0]):\r\n",
        "    temp_val = x[i]\r\n",
        "\r\n",
        "    x[i] = temp_val + eps\r\n",
        "    f_h1 = f(x)\r\n",
        "\r\n",
        "    x[i] = temp_val - epochs\r\n",
        "    f_h2 = f(x)\r\n",
        "\r\n",
        "    diff_value[i] = (f_h1 - f_h2) / (2 * eps)\r\n",
        "    x[i] = temp_val\r\n",
        "\r\n",
        "    return diff_value\r\n",
        "\r\n",
        "def differential_2d(f, X):\r\n",
        "  if X.ndim == 1:\r\n",
        "    return differential_1d(f,X)\r\n",
        "  else:\r\n",
        "    grad = np.zeros_like(X)\r\n",
        "\r\n",
        "    for idx, x in enumerate(X):\r\n",
        "      grad[idx] = differential_1d(f, x)\r\n",
        "\r\n",
        "    return grad"
      ],
      "execution_count": 28,
      "outputs": []
    },
    {
      "cell_type": "code",
      "metadata": {
        "id": "WiYt25MJ9Inu"
      },
      "source": [
        "class MyModel(object):\r\n",
        "\r\n",
        "  def __init__(self):\r\n",
        "    \r\n",
        "\r\n",
        "    def weight_init(input_nodes, hidden_nodes, output_units):\r\n",
        "      np.random.seed(777)\r\n",
        "      params ={}\r\n",
        "      params['w_1'] =0.01 * np.random.randn(input_nodes, hidden_nodes)\r\n",
        "      params['b_1'] =np.zeros(hidden_nodes)\r\n",
        "      params['w_2'] =0.01 * np.random.randn(hidden_nodes, output_units)\r\n",
        "      params['b_2'] =np.zeros(output_units)\r\n",
        "      return params\r\n",
        "\r\n",
        "    self.params = weight_init(784, 64, 10)\r\n",
        "  \r\n",
        "  def predict(self, x):\r\n",
        "    W_1, W_2 = self.params['w_1'], self.params['w_2']\r\n",
        "    B_1, B_2 = self.params['b_1'], self.params['b_2']\r\n",
        "\r\n",
        "    A1 = np.dot(x, W_1) + B_1\r\n",
        "    Z1 = sigmoid(A1)\r\n",
        "\r\n",
        "    A2 = np.dot(Z1, W_2) + B_2\r\n",
        "    pred_y = softmax(A2)\r\n",
        "\r\n",
        "    return pred_y\r\n",
        "\r\n",
        "def loss(self, x, true_y):\r\n",
        "  pred_y = self.predict(x)\r\n",
        "  return cross_entropy_error_for_bin(pred_y, true_y)\r\n",
        "\r\n",
        "def accuracy(self, x, true_y):\r\n",
        "  pred_y = self.predict(x)\r\n",
        "  y_argmax = np.argmax(pred_y, axis=1)\r\n",
        "  t_argmax = np.argmax(true_y, axis=1)\r\n",
        "  \r\n",
        "  accuracy = np.sum(y_argmax == t_argmax) / float(x.shape[0])\r\n",
        "\r\n",
        "  return accuracy\r\n",
        "\r\n",
        "def get_gradient(self, x, t):\r\n",
        "  \r\n",
        "  def loss_grad(grad):\r\n",
        "    return self.loss(x, t)\r\n",
        "  \r\n",
        "  grads={}\r\n",
        "  grads['w_1'] = differential_2d(loss_grad, self.params['w_1'])\r\n",
        "  grads['b_1'] = differential_2d(loss_grad, self.params['b_1'])\r\n",
        "  grads['w_2'] = differential_2d(loss_grad, self.params['w_2'])\r\n",
        "  grads['b_2'] = differential_2d(loss_grad, self.params['b_2'])\r\n",
        "\r\n",
        "  return grads\r\n",
        "\r\n"
      ],
      "execution_count": 37,
      "outputs": []
    },
    {
      "cell_type": "code",
      "metadata": {
        "colab": {
          "base_uri": "https://localhost:8080/",
          "height": 301,
          "referenced_widgets": [
            "6993e6cf2ca94d96885d10660e663051",
            "433dc37fd1c84271aac3c4b9522565bd",
            "c9491f88f094487bbc4f38bf47eb2bfb",
            "8c05dbe691c54129b59cd1370569ae27",
            "a006422111f54affa8d0da370f3924c9",
            "680521f1ffd34284af423a7cb497c9ee",
            "20fcc5f0d038481ab64bdf59a00157e7",
            "a7cc367bb70b4d03aab28a301bc66216"
          ]
        },
        "id": "QmNn2_sP9IsB",
        "outputId": "9d8de527-db35-42f7-cd90-be29e9d2db40"
      },
      "source": [
        "model =MyModel()\r\n",
        "\r\n",
        "train_loss_list = list()\r\n",
        "train_acc_list = list()\r\n",
        "test_acc_list = list()\r\n",
        "iter_per_epoch = max(train_size / batch_size, 1)\r\n",
        "\r\n",
        "start_time = time.time()\r\n",
        "for i in tqdm(range(epochs)):\r\n",
        "\r\n",
        "  batch_idx = np.random.choice(train_size, batch_size)\r\n",
        "  x_batch = x_train[batch_idx]\r\n",
        "  y_batch = y_train_ohe[batch_idx]\r\n",
        "\r\n",
        "  grads = model.get_gradient(x_batch, y_batch)\r\n",
        "\r\n",
        "  for key in grads.keys():\r\n",
        "    model.params[key] -= lr * grads[key]\r\n",
        "\r\n",
        "  loss = model.loss(x_batch, y_batch)\r\n",
        "  train_loss_list.append(loss)\r\n",
        "\r\n",
        "  train_accuracy = model.accuracy(x_train, y_train_ohe)\r\n",
        "  test_accuracy = model.accuracy(x_test, y_test_ohe)\r\n",
        "  train_acc_list.append(train_accuracy) \r\n",
        "  test_acc_list.append(test_accuracy) \r\n",
        "\r\n",
        "  print(\"epoch:{}, cost:{}, train accuracy:{}, test accuracy:{}\".foramt(i+1, loss, train_accuracy, test_accuracy))\r\n",
        "\r\n",
        "  end_time = time.time()\r\n",
        "\r\n",
        "  print(\"total learning time:{:.3f}s\".format(end_time - start_time))"
      ],
      "execution_count": 38,
      "outputs": [
        {
          "output_type": "display_data",
          "data": {
            "application/vnd.jupyter.widget-view+json": {
              "model_id": "6993e6cf2ca94d96885d10660e663051",
              "version_minor": 0,
              "version_major": 2
            },
            "text/plain": [
              "HBox(children=(FloatProgress(value=0.0, max=2.0), HTML(value='')))"
            ]
          },
          "metadata": {
            "tags": []
          }
        },
        {
          "output_type": "stream",
          "text": [
            "\n"
          ],
          "name": "stdout"
        },
        {
          "output_type": "error",
          "ename": "AttributeError",
          "evalue": "ignored",
          "traceback": [
            "\u001b[0;31m---------------------------------------------------------------------------\u001b[0m",
            "\u001b[0;31mAttributeError\u001b[0m                            Traceback (most recent call last)",
            "\u001b[0;32m<ipython-input-38-494aaddb95ef>\u001b[0m in \u001b[0;36m<module>\u001b[0;34m()\u001b[0m\n\u001b[1;32m     13\u001b[0m   \u001b[0my_batch\u001b[0m \u001b[0;34m=\u001b[0m \u001b[0my_train_ohe\u001b[0m\u001b[0;34m[\u001b[0m\u001b[0mbatch_idx\u001b[0m\u001b[0;34m]\u001b[0m\u001b[0;34m\u001b[0m\u001b[0;34m\u001b[0m\u001b[0m\n\u001b[1;32m     14\u001b[0m \u001b[0;34m\u001b[0m\u001b[0m\n\u001b[0;32m---> 15\u001b[0;31m   \u001b[0mgrads\u001b[0m \u001b[0;34m=\u001b[0m \u001b[0mmodel\u001b[0m\u001b[0;34m.\u001b[0m\u001b[0mget_gradient\u001b[0m\u001b[0;34m(\u001b[0m\u001b[0mx_batch\u001b[0m\u001b[0;34m,\u001b[0m \u001b[0my_batch\u001b[0m\u001b[0;34m)\u001b[0m\u001b[0;34m\u001b[0m\u001b[0;34m\u001b[0m\u001b[0m\n\u001b[0m\u001b[1;32m     16\u001b[0m \u001b[0;34m\u001b[0m\u001b[0m\n\u001b[1;32m     17\u001b[0m   \u001b[0;32mfor\u001b[0m \u001b[0mkey\u001b[0m \u001b[0;32min\u001b[0m \u001b[0mgrads\u001b[0m\u001b[0;34m.\u001b[0m\u001b[0mkeys\u001b[0m\u001b[0;34m(\u001b[0m\u001b[0;34m)\u001b[0m\u001b[0;34m:\u001b[0m\u001b[0;34m\u001b[0m\u001b[0;34m\u001b[0m\u001b[0m\n",
            "\u001b[0;31mAttributeError\u001b[0m: 'MyModel' object has no attribute 'get_gradient'"
          ]
        }
      ]
    },
    {
      "cell_type": "code",
      "metadata": {
        "id": "VwgLMylU9Iu7"
      },
      "source": [
        ""
      ],
      "execution_count": null,
      "outputs": []
    },
    {
      "cell_type": "code",
      "metadata": {
        "id": "IgNTtQS59Ix5"
      },
      "source": [
        ""
      ],
      "execution_count": null,
      "outputs": []
    },
    {
      "cell_type": "code",
      "metadata": {
        "id": "nGJpctSO9I3j"
      },
      "source": [
        ""
      ],
      "execution_count": null,
      "outputs": []
    }
  ]
}