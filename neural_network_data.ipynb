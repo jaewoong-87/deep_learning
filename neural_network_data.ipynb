{
  "nbformat": 4,
  "nbformat_minor": 0,
  "metadata": {
    "colab": {
      "name": "neural network data.ipynb",
      "provenance": [],
      "collapsed_sections": [],
      "authorship_tag": "ABX9TyOtZjV2u4D1f0pU3R0k/vdZ",
      "include_colab_link": true
    },
    "kernelspec": {
      "name": "python3",
      "display_name": "Python 3"
    }
  },
  "cells": [
    {
      "cell_type": "markdown",
      "metadata": {
        "id": "view-in-github",
        "colab_type": "text"
      },
      "source": [
        "<a href=\"https://colab.research.google.com/github/jaewoong-87/deep_learning/blob/main/neural_network_data.ipynb\" target=\"_parent\"><img src=\"https://colab.research.google.com/assets/colab-badge.svg\" alt=\"Open In Colab\"/></a>"
      ]
    },
    {
      "cell_type": "code",
      "metadata": {
        "id": "V-J8R2v8o_Aa"
      },
      "source": [
        "import numpy as np\r\n",
        "import matplotlib.pyplot as plt\r\n",
        "plt.style.use(['seaborn-whitegrid'])"
      ],
      "execution_count": 1,
      "outputs": []
    },
    {
      "cell_type": "markdown",
      "metadata": {
        "id": "B6LrbWGIqye4"
      },
      "source": [
        "tensor"
      ]
    },
    {
      "cell_type": "code",
      "metadata": {
        "colab": {
          "base_uri": "https://localhost:8080/"
        },
        "id": "Zqw3NQGlqvIi",
        "outputId": "69e1ba3b-247c-4b33-8b6c-943f890d2235"
      },
      "source": [
        "a= np.array([1,2])\r\n",
        "b= np.array([[1,2],\r\n",
        "            [3,4]])\r\n",
        "print(a.ndim)\r\n",
        "print(b.ndim)\r\n"
      ],
      "execution_count": 7,
      "outputs": [
        {
          "output_type": "stream",
          "text": [
            "1\n",
            "2\n"
          ],
          "name": "stdout"
        }
      ]
    },
    {
      "cell_type": "markdown",
      "metadata": {
        "id": "YJ4ZUj_DrgOg"
      },
      "source": [
        "scala 0D"
      ]
    },
    {
      "cell_type": "code",
      "metadata": {
        "colab": {
          "base_uri": "https://localhost:8080/"
        },
        "id": "ztc2x1ABqvQo",
        "outputId": "7247af11-4f64-4a1d-94b1-3678d9045454"
      },
      "source": [
        "x=np.array(3)\r\n",
        "print(x)\r\n",
        "print(x.shape)\r\n",
        "print(np.ndim(x))"
      ],
      "execution_count": 9,
      "outputs": [
        {
          "output_type": "stream",
          "text": [
            "3\n",
            "()\n",
            "0\n"
          ],
          "name": "stdout"
        }
      ]
    },
    {
      "cell_type": "markdown",
      "metadata": {
        "id": "mYJ07-ymrrVq"
      },
      "source": [
        "vector 1d"
      ]
    },
    {
      "cell_type": "code",
      "metadata": {
        "colab": {
          "base_uri": "https://localhost:8080/"
        },
        "id": "d7SBSFPVrXPX",
        "outputId": "f491cbfe-0f05-45e1-8b70-9bcffe65c6be"
      },
      "source": [
        "x= np.array([1,2,3,4])\r\n",
        "print(x)\r\n",
        "print(x.shape)\r\n",
        "print(np.ndim(x))"
      ],
      "execution_count": 10,
      "outputs": [
        {
          "output_type": "stream",
          "text": [
            "[1 2 3 4]\n",
            "(4,)\n",
            "1\n"
          ],
          "name": "stdout"
        }
      ]
    },
    {
      "cell_type": "markdown",
      "metadata": {
        "id": "uOeOBmYtr4t5"
      },
      "source": [
        "at same shape, we can do calculation."
      ]
    },
    {
      "cell_type": "code",
      "metadata": {
        "colab": {
          "base_uri": "https://localhost:8080/"
        },
        "id": "-UJYruBJrXUr",
        "outputId": "1bbaedf3-10c7-4f7f-a780-7fef7a892af6"
      },
      "source": [
        "a = np.array([1,2,3,4])\r\n",
        "b = np.array([5,3,6,1])\r\n",
        "c= a+b\r\n",
        "c"
      ],
      "execution_count": 12,
      "outputs": [
        {
          "output_type": "execute_result",
          "data": {
            "text/plain": [
              "array([6, 5, 9, 5])"
            ]
          },
          "metadata": {
            "tags": []
          },
          "execution_count": 12
        }
      ]
    },
    {
      "cell_type": "code",
      "metadata": {
        "colab": {
          "base_uri": "https://localhost:8080/"
        },
        "id": "No1AcX3IrXYA",
        "outputId": "b580fa16-d89f-4c14-eb6e-54f9d0150e57"
      },
      "source": [
        "a = np.array([1,2,3,4])\r\n",
        "b = np.array([5,3,6,1])\r\n",
        "c= a*b\r\n",
        "c"
      ],
      "execution_count": 13,
      "outputs": [
        {
          "output_type": "execute_result",
          "data": {
            "text/plain": [
              "array([ 5,  6, 18,  4])"
            ]
          },
          "metadata": {
            "tags": []
          },
          "execution_count": 13
        }
      ]
    },
    {
      "cell_type": "markdown",
      "metadata": {
        "id": "qfb8b30esXjP"
      },
      "source": [
        "muliply scala with vector"
      ]
    },
    {
      "cell_type": "code",
      "metadata": {
        "colab": {
          "base_uri": "https://localhost:8080/"
        },
        "id": "8vE-lAZErXau",
        "outputId": "6c7a8fa7-78a8-4a47-8b79-31e27d3ff6a5"
      },
      "source": [
        "a = np.array([1,2,3,4])\r\n",
        "b= np.array(3)\r\n",
        "c=a*b\r\n",
        "c"
      ],
      "execution_count": 14,
      "outputs": [
        {
          "output_type": "execute_result",
          "data": {
            "text/plain": [
              "array([ 3,  6,  9, 12])"
            ]
          },
          "metadata": {
            "tags": []
          },
          "execution_count": 14
        }
      ]
    },
    {
      "cell_type": "markdown",
      "metadata": {
        "id": "Zk4wL9mksmTY"
      },
      "source": [
        "2 dimention"
      ]
    },
    {
      "cell_type": "code",
      "metadata": {
        "colab": {
          "base_uri": "https://localhost:8080/"
        },
        "id": "e2o6A8TSrXdn",
        "outputId": "41389577-8ffc-4ac0-e746-5fa033c13682"
      },
      "source": [
        "matrix = np.array([[1,2,3],\r\n",
        "                   [4,5,6]])\r\n",
        "print(matrix)\r\n",
        "print(matrix.shape)\r\n",
        "print(np.ndim(matrix))"
      ],
      "execution_count": 18,
      "outputs": [
        {
          "output_type": "stream",
          "text": [
            "[[1 2 3]\n",
            " [4 5 6]]\n",
            "(2, 3)\n",
            "2\n"
          ],
          "name": "stdout"
        }
      ]
    },
    {
      "cell_type": "code",
      "metadata": {
        "colab": {
          "base_uri": "https://localhost:8080/"
        },
        "id": "eO98k6iArXgc",
        "outputId": "27db528e-1fbe-4d28-8d5f-3aa89f0d0f69"
      },
      "source": [
        "matrix1 = np.array([[1,2,3],\r\n",
        "                   [4,5,6]])\r\n",
        "matrix2 = np.array([[11,21,5],\r\n",
        "                   [2,7,7]])\r\n",
        "matrix=matrix1*matrix2\r\n",
        "\r\n",
        "print(matrix)\r\n",
        "print(matrix.shape)\r\n",
        "print(np.ndim(matrix))"
      ],
      "execution_count": 19,
      "outputs": [
        {
          "output_type": "stream",
          "text": [
            "[[11 42 15]\n",
            " [ 8 35 42]]\n",
            "(2, 3)\n",
            "2\n"
          ],
          "name": "stdout"
        }
      ]
    },
    {
      "cell_type": "code",
      "metadata": {
        "colab": {
          "base_uri": "https://localhost:8080/"
        },
        "id": "yDR4Y3NRrXlw",
        "outputId": "7e7ad59b-37ae-40c3-c400-2fd1b6d48439"
      },
      "source": [
        "m = np.array([[1],[2],[3]])\r\n",
        "n = np.array([[4],[5],[6]])\r\n",
        "c=m*n\r\n",
        "c"
      ],
      "execution_count": 25,
      "outputs": [
        {
          "output_type": "execute_result",
          "data": {
            "text/plain": [
              "array([[ 4],\n",
              "       [10],\n",
              "       [18]])"
            ]
          },
          "metadata": {
            "tags": []
          },
          "execution_count": 25
        }
      ]
    },
    {
      "cell_type": "markdown",
      "metadata": {
        "id": "fLKZjAUxuqCB"
      },
      "source": [
        "Transpose"
      ]
    },
    {
      "cell_type": "code",
      "metadata": {
        "colab": {
          "base_uri": "https://localhost:8080/"
        },
        "id": "l5D2kaWirXoo",
        "outputId": "52a72c3a-7fac-44d0-c40e-b0f29fe34610"
      },
      "source": [
        "A = np.array([[1,2,3],[4,5,6]])\r\n",
        "print(\"A\\n\", A)\r\n",
        "print(\"A\\n\",A.shape)\r\n",
        "A_=A.T\r\n",
        "print(A_)\r\n",
        "print(A_.shape)"
      ],
      "execution_count": 28,
      "outputs": [
        {
          "output_type": "stream",
          "text": [
            "A\n",
            " [[1 2 3]\n",
            " [4 5 6]]\n",
            "A\n",
            " (2, 3)\n",
            "[[1 4]\n",
            " [2 5]\n",
            " [3 6]]\n",
            "(3, 2)\n"
          ],
          "name": "stdout"
        }
      ]
    },
    {
      "cell_type": "markdown",
      "metadata": {
        "id": "aDghu_bPuseo"
      },
      "source": [
        "3dim"
      ]
    },
    {
      "cell_type": "code",
      "metadata": {
        "colab": {
          "base_uri": "https://localhost:8080/"
        },
        "id": "pmZLU_-1rXrB",
        "outputId": "1a3e5c8a-9880-4e5f-f225-d7a694c6a437"
      },
      "source": [
        "X=np.array([[[5,3,2,1],\r\n",
        "             [5,6,2,1],\r\n",
        "             [7,3,2,1]],\r\n",
        "            [[6,2,1,3],\r\n",
        "             [6,3,7,1],\r\n",
        "             [9,4,2,1]],\r\n",
        "            [[10,3,7,3],\r\n",
        "             [8,2,1,2],\r\n",
        "             [3,2,11,6]]])\r\n",
        "\r\n",
        "print(\"X\\n\",X, end='\\n\\n')\r\n",
        "print(X.shape)\r\n",
        "print(X.ndim)\r\n"
      ],
      "execution_count": 35,
      "outputs": [
        {
          "output_type": "stream",
          "text": [
            "X\n",
            " [[[ 5  3  2  1]\n",
            "  [ 5  6  2  1]\n",
            "  [ 7  3  2  1]]\n",
            "\n",
            " [[ 6  2  1  3]\n",
            "  [ 6  3  7  1]\n",
            "  [ 9  4  2  1]]\n",
            "\n",
            " [[10  3  7  3]\n",
            "  [ 8  2  1  2]\n",
            "  [ 3  2 11  6]]]\n",
            "\n",
            "(3, 3, 4)\n",
            "3\n"
          ],
          "name": "stdout"
        }
      ]
    },
    {
      "cell_type": "markdown",
      "metadata": {
        "id": "NkRPH8uqwfQK"
      },
      "source": [
        "3d tensor image example"
      ]
    },
    {
      "cell_type": "code",
      "metadata": {
        "colab": {
          "base_uri": "https://localhost:8080/"
        },
        "id": "-hqgdfUZrXtl",
        "outputId": "181499e4-27d3-4186-84c7-14254298d349"
      },
      "source": [
        "from keras.datasets import mnist\r\n",
        "(train_images, train_labels), (test_images, test_labels)=mnist.load_data()"
      ],
      "execution_count": 36,
      "outputs": [
        {
          "output_type": "stream",
          "text": [
            "Downloading data from https://storage.googleapis.com/tensorflow/tf-keras-datasets/mnist.npz\n",
            "11493376/11490434 [==============================] - 0s 0us/step\n"
          ],
          "name": "stdout"
        }
      ]
    },
    {
      "cell_type": "code",
      "metadata": {
        "colab": {
          "base_uri": "https://localhost:8080/"
        },
        "id": "nl8O2DBAwjzK",
        "outputId": "8ee75601-54fe-4ee2-d071-395a89c07d27"
      },
      "source": [
        "print(train_images.ndim)"
      ],
      "execution_count": 38,
      "outputs": [
        {
          "output_type": "stream",
          "text": [
            "3\n"
          ],
          "name": "stdout"
        }
      ]
    },
    {
      "cell_type": "code",
      "metadata": {
        "colab": {
          "base_uri": "https://localhost:8080/"
        },
        "id": "mDf4TCN_wj59",
        "outputId": "9ad472b1-4f2f-455d-8e23-ea66aee5e209"
      },
      "source": [
        "print(train_images.shape)"
      ],
      "execution_count": 39,
      "outputs": [
        {
          "output_type": "stream",
          "text": [
            "(60000, 28, 28)\n"
          ],
          "name": "stdout"
        }
      ]
    },
    {
      "cell_type": "code",
      "metadata": {
        "colab": {
          "base_uri": "https://localhost:8080/",
          "height": 262
        },
        "id": "PQAir43Bwj9x",
        "outputId": "20bce2ee-571a-4c94-e250-e13703ddcce3"
      },
      "source": [
        "temp_image = train_images[3]\r\n",
        "plt.imshow(temp_image, cmap='gray')\r\n",
        "plt.show()"
      ],
      "execution_count": 40,
      "outputs": [
        {
          "output_type": "display_data",
          "data": {
            "image/png": "[encoded data removed]",
            "text/plain": [
              "<Figure size 432x288 with 1 Axes>"
            ]
          },
          "metadata": {
            "tags": [],
            "needs_background": "light"
          }
        }
      ]
    },
    {
      "cell_type": "markdown",
      "metadata": {
        "id": "zlM3rODrxKpY"
      },
      "source": [
        "broadcasting   - make different dimentions can be calculated."
      ]
    },
    {
      "cell_type": "code",
      "metadata": {
        "colab": {
          "base_uri": "https://localhost:8080/"
        },
        "id": "jrBckfvFwkBU",
        "outputId": "b33aaec5-bdf9-4e96-88f6-2fa84076a31a"
      },
      "source": [
        "a = np.array(10)\r\n",
        "b= np.array([10,20,30])\r\n",
        "print(np.dot(a,b))\r\n",
        "print(a*b)"
      ],
      "execution_count": 43,
      "outputs": [
        {
          "output_type": "stream",
          "text": [
            "[100 200 300]\n",
            "[100 200 300]\n"
          ],
          "name": "stdout"
        }
      ]
    },
    {
      "cell_type": "code",
      "metadata": {
        "colab": {
          "base_uri": "https://localhost:8080/"
        },
        "id": "jnOFvUy4rXwI",
        "outputId": "734b97d6-318d-414e-c303-443fbc5aad70"
      },
      "source": [
        "A = np.array([[1,2],[3,4]])\r\n",
        "B = np.array([10,20])\r\n",
        "print(A)\r\n",
        "print(B)\r\n",
        "print(A*B)"
      ],
      "execution_count": 44,
      "outputs": [
        {
          "output_type": "stream",
          "text": [
            "[[1 2]\n",
            " [3 4]]\n",
            "[10 20]\n",
            "[[10 40]\n",
            " [30 80]]\n"
          ],
          "name": "stdout"
        }
      ]
    },
    {
      "cell_type": "markdown",
      "metadata": {
        "id": "7Pt5HiMfx16e"
      },
      "source": [
        "4, 5 D tensor"
      ]
    },
    {
      "cell_type": "markdown",
      "metadata": {
        "id": "Hq0nztw8x_nw"
      },
      "source": [
        "color image datasets(4d)\r\n",
        "\r\n",
        "movie(5d)"
      ]
    },
    {
      "cell_type": "markdown",
      "metadata": {
        "id": "ToGkmQKPyOM1"
      },
      "source": [
        "reshape -- reduce high D to low D "
      ]
    },
    {
      "cell_type": "code",
      "metadata": {
        "colab": {
          "base_uri": "https://localhost:8080/"
        },
        "id": "FeSTGhfvrXyv",
        "outputId": "7f44407c-035a-492b-9b48-4d602fc06aa1"
      },
      "source": [
        "A = np.array([[1,2,3],[3,4,6]])\r\n",
        "print(A)\r\n",
        "print(A.shape)\r\n",
        "print(A.reshape(6)) # 2d to 1d"
      ],
      "execution_count": 46,
      "outputs": [
        {
          "output_type": "stream",
          "text": [
            "[[1 2 3]\n",
            " [3 4 6]]\n",
            "(2, 3)\n",
            "[1 2 3 3 4 6]\n"
          ],
          "name": "stdout"
        }
      ]
    },
    {
      "cell_type": "code",
      "metadata": {
        "colab": {
          "base_uri": "https://localhost:8080/"
        },
        "id": "adhxAD0Pyc3u",
        "outputId": "e778c957-d5f9-4bd8-f4fd-f6dcd213a691"
      },
      "source": [
        "b = np.array([[1,2,3],[3,4,6]])\r\n",
        "print(b)\r\n",
        "print(b.shape)\r\n",
        "print(b.reshape(3,-1)) "
      ],
      "execution_count": 49,
      "outputs": [
        {
          "output_type": "stream",
          "text": [
            "[[1 2 3]\n",
            " [3 4 6]]\n",
            "(2, 3)\n",
            "[[1 2]\n",
            " [3 3]\n",
            " [4 6]]\n"
          ],
          "name": "stdout"
        }
      ]
    }
  ]
}