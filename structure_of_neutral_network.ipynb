{
  "nbformat": 4,
  "nbformat_minor": 0,
  "metadata": {
    "colab": {
      "name": "structure of neutral network.ipynb",
      "provenance": [],
      "collapsed_sections": [],
      "authorship_tag": "ABX9TyPJQCmzURUrV8a+RdqeE9f5",
      "include_colab_link": true
    },
    "kernelspec": {
      "name": "python3",
      "display_name": "Python 3"
    }
  },
  "cells": [
    {
      "cell_type": "markdown",
      "metadata": {
        "id": "view-in-github",
        "colab_type": "text"
      },
      "source": [
        "<a href=\"https://colab.research.google.com/github/jaewoong-87/deep_learning/blob/main/structure_of_neutral_network.ipynb\" target=\"_parent\"><img src=\"https://colab.research.google.com/assets/colab-badge.svg\" alt=\"Open In Colab\"/></a>"
      ]
    },
    {
      "cell_type": "markdown",
      "metadata": {
        "id": "n2CeOsHvGFOp"
      },
      "source": [
        "and gate"
      ]
    },
    {
      "cell_type": "code",
      "metadata": {
        "id": "C_oajXl71B0F"
      },
      "source": [
        "import numpy as np\r\n",
        "import matplotlib.pyplot as plt\r\n",
        "plt.style.use(['seaborn-whitegrid'])"
      ],
      "execution_count": 1,
      "outputs": []
    },
    {
      "cell_type": "code",
      "metadata": {
        "id": "rFBNXefwGN_x"
      },
      "source": [
        "def AND(a,b):\r\n",
        "  input = np.array([a,b])\r\n",
        "  weights = np.array([0.4,0.4])\r\n",
        "  bias = -0.6\r\n",
        "  value = np.sum(input*weights) + bias\r\n",
        "\r\n",
        "  if value <=0:\r\n",
        "    return 0\r\n",
        "  else:\r\n",
        "    return 1"
      ],
      "execution_count": 3,
      "outputs": []
    },
    {
      "cell_type": "code",
      "metadata": {
        "colab": {
          "base_uri": "https://localhost:8080/"
        },
        "id": "PgA6v_RPGOT1",
        "outputId": "f82a11e3-ad0a-4386-c72d-550ef8b2ffc1"
      },
      "source": [
        "print(AND(0,0))\r\n",
        "print(AND(0,1))\r\n",
        "print(AND(1,0))\r\n",
        "print(AND(1,1))"
      ],
      "execution_count": 5,
      "outputs": [
        {
          "output_type": "stream",
          "text": [
            "0\n",
            "0\n",
            "0\n",
            "1\n"
          ],
          "name": "stdout"
        }
      ]
    },
    {
      "cell_type": "code",
      "metadata": {
        "colab": {
          "base_uri": "https://localhost:8080/",
          "height": 266
        },
        "id": "IB3hwrRPGOa5",
        "outputId": "322ed199-482f-4085-b92d-9b2994049069"
      },
      "source": [
        "x1=np.arange(-2,2,0.01)\r\n",
        "x2=np.arange(-2,2,0.01)\r\n",
        "bias = -0.6\r\n",
        "\r\n",
        "y= (-0.4 * x1 - bias) / 0.4\r\n",
        "\r\n",
        "plt.axvline(x=0)\r\n",
        "plt.axhline(y=0)\r\n",
        "\r\n",
        "plt.plot(x1, y,'r--')\r\n",
        "plt.scatter(0,0, color='orange', marker='o', s=150)\r\n",
        "plt.scatter(0,1, color='orange', marker='o', s=150)\r\n",
        "plt.scatter(1,0, color='orange', marker='o', s=150)\r\n",
        "plt.scatter(1,1, color='black', marker='^', s=150)\r\n",
        "\r\n",
        "plt.xlim(-0.5, 1.5)\r\n",
        "plt.ylim(-0.5, 1.5)\r\n",
        "plt.grid()\r\n",
        "plt.show()\r\n"
      ],
      "execution_count": 14,
      "outputs": [
        {
          "output_type": "display_data",
          "data": {
            "image/png": "[encoded data removed]",
            "text/plain": [
              "<Figure size 432x288 with 1 Axes>"
            ]
          },
          "metadata": {
            "tags": [],
            "needs_background": "light"
          }
        }
      ]
    },
    {
      "cell_type": "markdown",
      "metadata": {
        "id": "kUK6T0R9IodN"
      },
      "source": [
        "OR"
      ]
    },
    {
      "cell_type": "code",
      "metadata": {
        "id": "F0kFCXDDGOii"
      },
      "source": [
        "def OR(a,b):\r\n",
        "  input = np.array([a,b])\r\n",
        "  weights = np.array([0.4,0.5])\r\n",
        "  bias = -0.3\r\n",
        "  value = np.sum(input*weights) + bias\r\n",
        "\r\n",
        "  if value <=0:\r\n",
        "    return 0\r\n",
        "  else:\r\n",
        "    return 1\r\n"
      ],
      "execution_count": 9,
      "outputs": []
    },
    {
      "cell_type": "code",
      "metadata": {
        "colab": {
          "base_uri": "https://localhost:8080/"
        },
        "id": "xvE89YmmGOlG",
        "outputId": "a82d0a2e-c475-41be-9427-2a6ca378eb2e"
      },
      "source": [
        "print(OR(0,0))\r\n",
        "print(OR(0,1))\r\n",
        "print(OR(1,0))\r\n",
        "print(OR(1,1))"
      ],
      "execution_count": 10,
      "outputs": [
        {
          "output_type": "stream",
          "text": [
            "0\n",
            "1\n",
            "1\n",
            "1\n"
          ],
          "name": "stdout"
        }
      ]
    },
    {
      "cell_type": "code",
      "metadata": {
        "colab": {
          "base_uri": "https://localhost:8080/",
          "height": 266
        },
        "id": "A3fHyVewGOn7",
        "outputId": "a4b4d5c3-185f-4971-aa7d-e4d0888e6563"
      },
      "source": [
        "x1=np.arange(-2,2,0.01)\r\n",
        "x2=np.arange(-2,2,0.01)\r\n",
        "bias = -0.6\r\n",
        "\r\n",
        "y= (-0.4 * x1 - bias) / 0.5\r\n",
        "\r\n",
        "plt.axvline(x=0)\r\n",
        "plt.axhline(y=0)\r\n",
        "\r\n",
        "plt.plot(x1, y,'r--')\r\n",
        "plt.scatter(0,0, color='black', marker='^', s=150)\r\n",
        "plt.scatter(0,1, color='orange', marker='o', s=150)\r\n",
        "plt.scatter(1,0, color='orange', marker='o', s=150)\r\n",
        "plt.scatter(1,1, color='orange', marker='o', s=150)\r\n",
        "\r\n",
        "plt.xlim(-0.5, 1.5)\r\n",
        "plt.ylim(-0.5, 1.5)\r\n",
        "plt.grid()\r\n",
        "plt.show()"
      ],
      "execution_count": 13,
      "outputs": [
        {
          "output_type": "display_data",
          "data": {
            "image/png": "[encoded data removed]",
            "text/plain": [
              "<Figure size 432x288 with 1 Axes>"
            ]
          },
          "metadata": {
            "tags": [],
            "needs_background": "light"
          }
        }
      ]
    },
    {
      "cell_type": "markdown",
      "metadata": {
        "id": "vcJgn5zeK2x7"
      },
      "source": [
        "activation function"
      ]
    },
    {
      "cell_type": "markdown",
      "metadata": {
        "id": "KVtpJK1zLfqN"
      },
      "source": [
        "step f"
      ]
    },
    {
      "cell_type": "code",
      "metadata": {
        "id": "1f9Xe5LIGOqk"
      },
      "source": [
        "def step_function(x):\r\n",
        "  if x > 0:\r\n",
        "    return 1\r\n",
        "  else:\r\n",
        "    return 0"
      ],
      "execution_count": 15,
      "outputs": []
    },
    {
      "cell_type": "code",
      "metadata": {
        "id": "ZCbfRMC8LBWz"
      },
      "source": [
        "def step_function_for_numpy(x):\r\n",
        "  y = x > 0\r\n",
        "  return y.astype(np.int)"
      ],
      "execution_count": 16,
      "outputs": []
    },
    {
      "cell_type": "code",
      "metadata": {
        "colab": {
          "base_uri": "https://localhost:8080/"
        },
        "id": "_YSiPJVvLBZ6",
        "outputId": "63c57284-906a-4b70-c91f-3912dbc911ac"
      },
      "source": [
        "print(step_function(-3))\r\n",
        "print(step_function(-5))\r\n",
        "\r\n",
        "a = np.array([5,3,-4,2.0])\r\n",
        "print(step_function_for_numpy(a))"
      ],
      "execution_count": 17,
      "outputs": [
        {
          "output_type": "stream",
          "text": [
            "0\n",
            "0\n",
            "[1 1 0 1]\n"
          ],
          "name": "stdout"
        }
      ]
    },
    {
      "cell_type": "markdown",
      "metadata": {
        "id": "4uE7DeWRLhIH"
      },
      "source": [
        "sigmoid f"
      ]
    },
    {
      "cell_type": "code",
      "metadata": {
        "id": "mySUiJbSLBcx"
      },
      "source": [
        "def sigmoid(x):\r\n",
        "  return 1/(1+np.exp(-x))"
      ],
      "execution_count": 18,
      "outputs": []
    },
    {
      "cell_type": "code",
      "metadata": {
        "colab": {
          "base_uri": "https://localhost:8080/"
        },
        "id": "6jUeBvtcLBfn",
        "outputId": "c0cdb384-1e48-47af-c1ee-8acf0026dd7d"
      },
      "source": [
        "print(sigmoid(3))\r\n",
        "print(sigmoid(-3))"
      ],
      "execution_count": 19,
      "outputs": [
        {
          "output_type": "stream",
          "text": [
            "0.9525741268224334\n",
            "0.04742587317756678\n"
          ],
          "name": "stdout"
        }
      ]
    },
    {
      "cell_type": "code",
      "metadata": {
        "colab": {
          "base_uri": "https://localhost:8080/",
          "height": 262
        },
        "id": "Ii8WYwcPLBmW",
        "outputId": "5e182383-aa0b-4e1e-d54e-eb6c97758abf"
      },
      "source": [
        "plt.grid()\r\n",
        "x = np.arange(-5.0,5.0,0.01)\r\n",
        "y1 = sigmoid(x)\r\n",
        "y2 = step_function_for_numpy(x)\r\n",
        "plt.plot(x, y1, 'r-', x,y2, 'b--')\r\n",
        "plt.show()"
      ],
      "execution_count": 20,
      "outputs": [
        {
          "output_type": "display_data",
          "data": {
            "image/png": "[encoded data removed]",
            "text/plain": [
              "<Figure size 432x288 with 1 Axes>"
            ]
          },
          "metadata": {
            "tags": [],
            "needs_background": "light"
          }
        }
      ]
    },
    {
      "cell_type": "markdown",
      "metadata": {
        "id": "fmVsQv9mMZ66"
      },
      "source": [
        "ReLU(Rectified Linear Unit)"
      ]
    },
    {
      "cell_type": "code",
      "metadata": {
        "id": "XIlVqtjoGOtc"
      },
      "source": [
        "def ReLU(x):\r\n",
        "  if x > 0:\r\n",
        "    return x\r\n",
        "  else:\r\n",
        "    return 0"
      ],
      "execution_count": 21,
      "outputs": []
    },
    {
      "cell_type": "code",
      "metadata": {
        "colab": {
          "base_uri": "https://localhost:8080/"
        },
        "id": "RD6REMyKMkRJ",
        "outputId": "59a7d4a0-5583-4568-d024-37d3f1246f46"
      },
      "source": [
        "print(ReLU(5))\r\n",
        "print(ReLU(-3))"
      ],
      "execution_count": 22,
      "outputs": [
        {
          "output_type": "stream",
          "text": [
            "5\n",
            "0\n"
          ],
          "name": "stdout"
        }
      ]
    },
    {
      "cell_type": "markdown",
      "metadata": {
        "id": "n6sbJUvmMw7y"
      },
      "source": [
        "Hyperbolic tangent f"
      ]
    },
    {
      "cell_type": "code",
      "metadata": {
        "id": "mKB-fF_gMkTh"
      },
      "source": [
        "def tanh(x):\r\n",
        "  return (np.exp(x) - np.exp(-x)) / (np.exp(x) + np.exp(-x))"
      ],
      "execution_count": 25,
      "outputs": []
    },
    {
      "cell_type": "code",
      "metadata": {
        "colab": {
          "base_uri": "https://localhost:8080/"
        },
        "id": "615uoF5sMkWq",
        "outputId": "a57970d7-486d-4f64-88d0-fd22f6f62470"
      },
      "source": [
        "print(tanh(3))\r\n",
        "print(tanh(-3))"
      ],
      "execution_count": 26,
      "outputs": [
        {
          "output_type": "stream",
          "text": [
            "0.9950547536867306\n",
            "-0.9950547536867306\n"
          ],
          "name": "stdout"
        }
      ]
    },
    {
      "cell_type": "markdown",
      "metadata": {
        "id": "ZdZ4dxGKNKSO"
      },
      "source": [
        "identity f"
      ]
    },
    {
      "cell_type": "code",
      "metadata": {
        "id": "dC-xLPkJMkZN"
      },
      "source": [
        "def identify_f(x):\r\n",
        "  return x"
      ],
      "execution_count": 28,
      "outputs": []
    },
    {
      "cell_type": "code",
      "metadata": {
        "colab": {
          "base_uri": "https://localhost:8080/"
        },
        "id": "6-vcA55dMkgv",
        "outputId": "d76a81bf-01b2-4a89-a43d-1f618f26c6d3"
      },
      "source": [
        "print(identify_f(5))\r\n",
        "print(identify_f(-5))"
      ],
      "execution_count": 29,
      "outputs": [
        {
          "output_type": "stream",
          "text": [
            "5\n",
            "-5\n"
          ],
          "name": "stdout"
        }
      ]
    },
    {
      "cell_type": "markdown",
      "metadata": {
        "id": "8VN4Mp_PNZSf"
      },
      "source": [
        "softmax used for  multiclass classfication"
      ]
    },
    {
      "cell_type": "code",
      "metadata": {
        "id": "vxar5SjoMkjX"
      },
      "source": [
        "def softmax(a):\r\n",
        "  exp_a = np.exp(a)\r\n",
        "  sum_exp_a = np.sum(exp_a)\r\n",
        "  y = exp_a / sum_exp_a\r\n",
        "  return y"
      ],
      "execution_count": 30,
      "outputs": []
    },
    {
      "cell_type": "code",
      "metadata": {
        "colab": {
          "base_uri": "https://localhost:8080/"
        },
        "id": "ywXGzAqVMklq",
        "outputId": "6285848c-da27-4177-c957-55e601ca9c83"
      },
      "source": [
        "a = np.array([0.3, 0.2, 4.0, -1.2])\r\n",
        "print(softmax(a))\r\n",
        "print(np.sum(softmax(a)))"
      ],
      "execution_count": 31,
      "outputs": [
        {
          "output_type": "stream",
          "text": [
            "[0.02348781 0.02125265 0.9500187  0.00524084]\n",
            "1.0\n"
          ],
          "name": "stdout"
        }
      ]
    },
    {
      "cell_type": "markdown",
      "metadata": {
        "id": "4fozFj1iN6mG"
      },
      "source": [
        "there are overflow problem. \r\n",
        "\r\n",
        "if input file is large, it could be limitless"
      ]
    },
    {
      "cell_type": "markdown",
      "metadata": {
        "id": "Z_206HHbOKGT"
      },
      "source": [
        "non linear fucntion is important to deepen neutral network\r\n",
        "if activation function has linear function, hidden layer doesn't have meaning."
      ]
    },
    {
      "cell_type": "code",
      "metadata": {
        "id": "0uhWz3wLMkoh"
      },
      "source": [
        "def LeakyReLU(x):\r\n",
        "  a = 0.01\r\n",
        "  return np.maximum(a*x, x)\r\n"
      ],
      "execution_count": 32,
      "outputs": []
    },
    {
      "cell_type": "code",
      "metadata": {
        "colab": {
          "base_uri": "https://localhost:8080/"
        },
        "id": "eO9giCHFMkrJ",
        "outputId": "2bd246f2-48e2-425a-d9d2-6dcaf0510692"
      },
      "source": [
        "x = np.array([0.5, -1.4, 3, 0,5])\r\n",
        "print(LeakyReLU(x))"
      ],
      "execution_count": 33,
      "outputs": [
        {
          "output_type": "stream",
          "text": [
            "[ 0.5   -0.014  3.     0.     5.   ]\n"
          ],
          "name": "stdout"
        }
      ]
    },
    {
      "cell_type": "markdown",
      "metadata": {
        "id": "vWG89wzMOtM9"
      },
      "source": [
        "ELU(Exponential Linear Units"
      ]
    },
    {
      "cell_type": "code",
      "metadata": {
        "id": "R_hLZ3NIOtYU"
      },
      "source": [
        "def ELU(x):\r\n",
        "  alpha= 1.0\r\n",
        "  return (x >=0)* x + (x<0)* alpha * (np.exp(x) - 1)"
      ],
      "execution_count": 36,
      "outputs": []
    },
    {
      "cell_type": "code",
      "metadata": {
        "colab": {
          "base_uri": "https://localhost:8080/"
        },
        "id": "-65MlXP7Otes",
        "outputId": "dad37692-5f9c-4fbd-9c19-c6d59deffea4"
      },
      "source": [
        "print(ELU(4))\r\n",
        "print(ELU(-0.5))\r\n",
        "x= np.array([-0.2,0.1,4])\r\n",
        "print(ELU(x))"
      ],
      "execution_count": 37,
      "outputs": [
        {
          "output_type": "stream",
          "text": [
            "4.0\n",
            "-0.3934693402873666\n",
            "[-0.18126925  0.1         4.        ]\n"
          ],
          "name": "stdout"
        }
      ]
    },
    {
      "cell_type": "markdown",
      "metadata": {
        "id": "591wTDwPPaMw"
      },
      "source": [
        "layer"
      ]
    },
    {
      "cell_type": "code",
      "metadata": {
        "colab": {
          "base_uri": "https://localhost:8080/"
        },
        "id": "pkgEPPILOtlV",
        "outputId": "0f645a9f-12c6-49f6-9ab4-ed17220dc365"
      },
      "source": [
        "X = np.array([1.0,0.5,0.4])\r\n",
        "W1 = np.array([[0.1,0.3,0.5],[0.2,0.4,0.6],[0.3,0.5,0.7]])\r\n",
        "B1 = np.array([1,1,1])\r\n",
        "\r\n",
        "print(W1.shape)\r\n",
        "print(X.shape)\r\n",
        "print(B1.shape)\r\n",
        "\r\n",
        "A1 = np.dot(X,W1)+ B1\r\n",
        "Z1 = sigmoid(A1)\r\n",
        "\r\n",
        "print(A1)\r\n",
        "print(Z1)"
      ],
      "execution_count": 38,
      "outputs": [
        {
          "output_type": "stream",
          "text": [
            "(3, 3)\n",
            "(3,)\n",
            "(3,)\n",
            "[1.32 1.7  2.08]\n",
            "[0.78918171 0.84553473 0.88894403]\n"
          ],
          "name": "stdout"
        }
      ]
    },
    {
      "cell_type": "code",
      "metadata": {
        "id": "797HmGRxOtvu"
      },
      "source": [
        "def network():\r\n",
        "\r\n",
        "   network={}\r\n",
        "\r\n",
        "   network['W1']=np.array([[0.5,0.3,0.6],[0.2,0.7,0.7],[0.3,0.5,0.7]])\r\n",
        "   network['B1']=np.array([1,1,1])\r\n",
        "\r\n",
        "   network['W2']=np.array([[0.1,0.3,0.5],[0.2,0.2,0.6],[0.3,0.5,0.1]])\r\n",
        "   network['B2']=np.array([1,1,1])\r\n",
        "\r\n",
        "   network['W3']=np.array([[0.1,0.3,0.5],[0.2,0.4,0.3],[0.5,0.5,0.5]])\r\n",
        "   network['B3']=np.array([1,1,1])\r\n",
        "\r\n",
        "   network['W4']=np.array([[0.1,0.3,0.5],[0.1,0.4,0.6],[0.3,0.5,0.7]])\r\n",
        "   network['B4']=np.array([1,1,1])\r\n",
        "\r\n",
        "   return network\r\n",
        "\r\n",
        "\r\n"
      ],
      "execution_count": 39,
      "outputs": []
    },
    {
      "cell_type": "code",
      "metadata": {
        "id": "DLXLMkRkQ_nz"
      },
      "source": [
        "def forward(network, x):\r\n",
        "  W1, W2, W3, W4 = network['W1'],network['W2'],network['W3'],network['W4']\r\n",
        "  B1, B2, B3, B4 = network['B1'],network['B2'],network['B3'],network['B4']\r\n",
        "\r\n",
        "  A1 = np.dot(x, W1) + B1\r\n",
        "  Z1 = sigmoid(A1)\r\n",
        "\r\n",
        "  A2 = np.dot(Z1, W2) + B2\r\n",
        "  Z2 = sigmoid(A2)\r\n",
        "\r\n",
        "  A3 = np.dot(Z2, W3) + B3\r\n",
        "  Z1 = sigmoid(A3)\r\n",
        "\r\n",
        "  A4 = np.dot(x, W4) + B4\r\n",
        "  y = sigmoid(A4)\r\n",
        "\r\n",
        "  return y"
      ],
      "execution_count": 40,
      "outputs": []
    },
    {
      "cell_type": "code",
      "metadata": {
        "colab": {
          "base_uri": "https://localhost:8080/"
        },
        "id": "YDFdPeeKQ_6u",
        "outputId": "4d0848d4-a737-4e9d-e049-8e9be2fd953e"
      },
      "source": [
        "net = network()\r\n",
        "x=np.array([0.3,1.3,-0.2])\r\n",
        "y=forward(net, x)\r\n",
        "print(y)"
      ],
      "execution_count": 41,
      "outputs": [
        {
          "output_type": "stream",
          "text": [
            "[0.75026011 0.81906121 0.85692728]\n"
          ],
          "name": "stdout"
        }
      ]
    }
  ]
}